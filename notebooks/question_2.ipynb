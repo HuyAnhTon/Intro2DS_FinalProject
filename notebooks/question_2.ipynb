{
 "cells": [
  {
   "cell_type": "markdown",
   "metadata": {},
   "source": [
    "# III. Question\n",
    "\n",
    "## Nội dung\n",
    "\n",
    "### Ta có thể dự đoán được những công ty nào có nguy cơ phá sản cao?\n",
    "\n",
    "## Mục đích:"
   ]
  },
  {
   "cell_type": "code",
   "execution_count": null,
   "metadata": {},
   "outputs": [],
   "source": []
  }
 ],
 "metadata": {
  "kernelspec": {
   "display_name": "min_ds-env",
   "language": "python",
   "name": "python3"
  },
  "language_info": {
   "name": "python",
   "version": "3.8.8"
  }
 },
 "nbformat": 4,
 "nbformat_minor": 2
}
