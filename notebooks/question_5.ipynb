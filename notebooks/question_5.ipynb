{
 "cells": [
  {
   "cell_type": "markdown",
   "metadata": {},
   "source": [
    "# I. CÂU HỎI\n",
    "\n",
    "\n",
    "## Nội dung\n",
    "\n",
    "**Quy mô của các công ty thuộc mảng Tech thay đổi như thế nào qua các năm? Đâu các là nước đã dẫn đầu hiện nay?**\n",
    "## Mục đích\n",
    "\n",
    "\n",
    "- Tìm hiểu về xu hướng tăng giảm về quy mô\n",
    "\n",
    "- Tìm hiểu liệu rằng đây có phải là danh mục đang được thế giới quan tâm hay không?\n",
    "\n",
    "- Tìm hiểu về xu hướng phát triển trên thế giới\n",
    "\n",
    "- Tìm hiểu về tốc độ phát triển của lĩnh vực công nghệ\n",
    "___\n"
   ]
  },
  {
   "cell_type": "markdown",
   "metadata": {},
   "source": [
    "# II. Tiền xử lý"
   ]
  },
  {
   "cell_type": "markdown",
   "metadata": {},
   "source": [
    "## Import các thư viện cần thiết"
   ]
  },
  {
   "cell_type": "code",
   "execution_count": 339,
   "metadata": {},
   "outputs": [],
   "source": [
    "import pandas as pd\n",
    "import numpy as np\n",
    "import matplotlib.pyplot as plt\n",
    "import seaborn as sns"
   ]
  },
  {
   "cell_type": "markdown",
   "metadata": {},
   "source": [
    "## Load file `.csv` đã được qua xử lý"
   ]
  },
  {
   "cell_type": "code",
   "execution_count": 340,
   "metadata": {},
   "outputs": [
    {
     "data": {
      "text/html": [
       "<div>\n",
       "<style scoped>\n",
       "    .dataframe tbody tr th:only-of-type {\n",
       "        vertical-align: middle;\n",
       "    }\n",
       "\n",
       "    .dataframe tbody tr th {\n",
       "        vertical-align: top;\n",
       "    }\n",
       "\n",
       "    .dataframe thead th {\n",
       "        text-align: right;\n",
       "    }\n",
       "</style>\n",
       "<table border=\"1\" class=\"dataframe\">\n",
       "  <thead>\n",
       "    <tr style=\"text-align: right;\">\n",
       "      <th></th>\n",
       "      <th>Company</th>\n",
       "      <th>Year</th>\n",
       "      <th>EPS ($)</th>\n",
       "      <th>Earnings ($B)</th>\n",
       "      <th>Revenue ($B)</th>\n",
       "      <th>Marketcap ($B)</th>\n",
       "      <th>Total Debts ($B)</th>\n",
       "      <th>Net Assets ($B)</th>\n",
       "      <th>Total Assets ($B)</th>\n",
       "      <th>Cash on hand ($B)</th>\n",
       "      <th>Country</th>\n",
       "      <th>Share price ($)</th>\n",
       "      <th>Categories</th>\n",
       "    </tr>\n",
       "  </thead>\n",
       "  <tbody>\n",
       "    <tr>\n",
       "      <th>0</th>\n",
       "      <td>Apple</td>\n",
       "      <td>2023</td>\n",
       "      <td>6.16</td>\n",
       "      <td>114.30</td>\n",
       "      <td>383.28</td>\n",
       "      <td>3043.0</td>\n",
       "      <td>111.08</td>\n",
       "      <td>62.14</td>\n",
       "      <td>352.58</td>\n",
       "      <td>61.55</td>\n",
       "      <td>USA</td>\n",
       "      <td>195.71</td>\n",
       "      <td>Software, Tech, Electronics, Dow jones, Tech H...</td>\n",
       "    </tr>\n",
       "    <tr>\n",
       "      <th>1</th>\n",
       "      <td>Apple</td>\n",
       "      <td>2022</td>\n",
       "      <td>5.92</td>\n",
       "      <td>113.96</td>\n",
       "      <td>387.53</td>\n",
       "      <td>2066.0</td>\n",
       "      <td>120.06</td>\n",
       "      <td>50.67</td>\n",
       "      <td>352.75</td>\n",
       "      <td>48.30</td>\n",
       "      <td>USA</td>\n",
       "      <td>195.71</td>\n",
       "      <td>Software, Tech, Electronics, Dow jones, Tech H...</td>\n",
       "    </tr>\n",
       "    <tr>\n",
       "      <th>2</th>\n",
       "      <td>Apple</td>\n",
       "      <td>2021</td>\n",
       "      <td>6.08</td>\n",
       "      <td>116.90</td>\n",
       "      <td>378.32</td>\n",
       "      <td>2901.0</td>\n",
       "      <td>124.71</td>\n",
       "      <td>63.09</td>\n",
       "      <td>351.00</td>\n",
       "      <td>62.63</td>\n",
       "      <td>USA</td>\n",
       "      <td>195.71</td>\n",
       "      <td>Software, Tech, Electronics, Dow jones, Tech H...</td>\n",
       "    </tr>\n",
       "    <tr>\n",
       "      <th>3</th>\n",
       "      <td>Apple</td>\n",
       "      <td>2020</td>\n",
       "      <td>3.74</td>\n",
       "      <td>74.25</td>\n",
       "      <td>294.13</td>\n",
       "      <td>2255.0</td>\n",
       "      <td>112.43</td>\n",
       "      <td>65.33</td>\n",
       "      <td>323.88</td>\n",
       "      <td>90.94</td>\n",
       "      <td>USA</td>\n",
       "      <td>195.71</td>\n",
       "      <td>Software, Tech, Electronics, Dow jones, Tech H...</td>\n",
       "    </tr>\n",
       "    <tr>\n",
       "      <th>4</th>\n",
       "      <td>Apple</td>\n",
       "      <td>2019</td>\n",
       "      <td>3.19</td>\n",
       "      <td>66.15</td>\n",
       "      <td>267.68</td>\n",
       "      <td>1287.0</td>\n",
       "      <td>108.04</td>\n",
       "      <td>90.48</td>\n",
       "      <td>338.51</td>\n",
       "      <td>100.55</td>\n",
       "      <td>USA</td>\n",
       "      <td>195.71</td>\n",
       "      <td>Software, Tech, Electronics, Dow jones, Tech H...</td>\n",
       "    </tr>\n",
       "  </tbody>\n",
       "</table>\n",
       "</div>"
      ],
      "text/plain": [
       "  Company  Year  EPS ($)  Earnings ($B)  Revenue ($B)  Marketcap ($B)  \\\n",
       "0   Apple  2023     6.16         114.30        383.28          3043.0   \n",
       "1   Apple  2022     5.92         113.96        387.53          2066.0   \n",
       "2   Apple  2021     6.08         116.90        378.32          2901.0   \n",
       "3   Apple  2020     3.74          74.25        294.13          2255.0   \n",
       "4   Apple  2019     3.19          66.15        267.68          1287.0   \n",
       "\n",
       "   Total Debts ($B)  Net Assets ($B)  Total Assets ($B)  Cash on hand ($B)  \\\n",
       "0            111.08            62.14             352.58              61.55   \n",
       "1            120.06            50.67             352.75              48.30   \n",
       "2            124.71            63.09             351.00              62.63   \n",
       "3            112.43            65.33             323.88              90.94   \n",
       "4            108.04            90.48             338.51             100.55   \n",
       "\n",
       "  Country  Share price ($)                                         Categories  \n",
       "0     USA           195.71  Software, Tech, Electronics, Dow jones, Tech H...  \n",
       "1     USA           195.71  Software, Tech, Electronics, Dow jones, Tech H...  \n",
       "2     USA           195.71  Software, Tech, Electronics, Dow jones, Tech H...  \n",
       "3     USA           195.71  Software, Tech, Electronics, Dow jones, Tech H...  \n",
       "4     USA           195.71  Software, Tech, Electronics, Dow jones, Tech H...  "
      ]
     },
     "execution_count": 340,
     "metadata": {},
     "output_type": "execute_result"
    }
   ],
   "source": [
    "df = pd.read_csv(\"../Data/preprocessed/cleaned_dataset.csv\")\n",
    "df.head()"
   ]
  },
  {
   "cell_type": "markdown",
   "metadata": {},
   "source": [
    "Xem `data type` và số lượng `missing-value` của các cột"
   ]
  },
  {
   "cell_type": "code",
   "execution_count": 341,
   "metadata": {},
   "outputs": [
    {
     "name": "stdout",
     "output_type": "stream",
     "text": [
      "<class 'pandas.core.frame.DataFrame'>\n",
      "RangeIndex: 41446 entries, 0 to 41445\n",
      "Data columns (total 13 columns):\n",
      " #   Column             Non-Null Count  Dtype  \n",
      "---  ------             --------------  -----  \n",
      " 0   Company            41446 non-null  object \n",
      " 1   Year               41446 non-null  int64  \n",
      " 2   EPS ($)            41446 non-null  float64\n",
      " 3   Earnings ($B)      41446 non-null  float64\n",
      " 4   Revenue ($B)       41446 non-null  float64\n",
      " 5   Marketcap ($B)     41446 non-null  float64\n",
      " 6   Total Debts ($B)   41446 non-null  float64\n",
      " 7   Net Assets ($B)    41446 non-null  float64\n",
      " 8   Total Assets ($B)  41446 non-null  float64\n",
      " 9   Cash on hand ($B)  41446 non-null  float64\n",
      " 10  Country            41446 non-null  object \n",
      " 11  Share price ($)    41446 non-null  float64\n",
      " 12  Categories         41446 non-null  object \n",
      "dtypes: float64(9), int64(1), object(3)\n",
      "memory usage: 4.1+ MB\n"
     ]
    }
   ],
   "source": [
    "df.info()"
   ]
  },
  {
   "cell_type": "markdown",
   "metadata": {},
   "source": [
    "**Nhận xét**\n",
    "- Kiểu dữ liệu của các cột đã phù hợp\n",
    "\n",
    "- Không tồn tại missing-value trong các cột"
   ]
  },
  {
   "cell_type": "markdown",
   "metadata": {},
   "source": [
    "____"
   ]
  },
  {
   "cell_type": "markdown",
   "metadata": {},
   "source": [
    "# III. Phân tích & trả lời"
   ]
  },
  {
   "cell_type": "markdown",
   "metadata": {},
   "source": [
    "Lọc ra các công ty trong danh mục `Tech`"
   ]
  },
  {
   "cell_type": "code",
   "execution_count": 342,
   "metadata": {},
   "outputs": [
    {
     "data": {
      "text/html": [
       "<div>\n",
       "<style scoped>\n",
       "    .dataframe tbody tr th:only-of-type {\n",
       "        vertical-align: middle;\n",
       "    }\n",
       "\n",
       "    .dataframe tbody tr th {\n",
       "        vertical-align: top;\n",
       "    }\n",
       "\n",
       "    .dataframe thead th {\n",
       "        text-align: right;\n",
       "    }\n",
       "</style>\n",
       "<table border=\"1\" class=\"dataframe\">\n",
       "  <thead>\n",
       "    <tr style=\"text-align: right;\">\n",
       "      <th></th>\n",
       "      <th>Company</th>\n",
       "      <th>Year</th>\n",
       "      <th>EPS ($)</th>\n",
       "      <th>Earnings ($B)</th>\n",
       "      <th>Revenue ($B)</th>\n",
       "      <th>Marketcap ($B)</th>\n",
       "      <th>Total Debts ($B)</th>\n",
       "      <th>Net Assets ($B)</th>\n",
       "      <th>Total Assets ($B)</th>\n",
       "      <th>Cash on hand ($B)</th>\n",
       "      <th>Country</th>\n",
       "      <th>Share price ($)</th>\n",
       "      <th>Categories</th>\n",
       "    </tr>\n",
       "  </thead>\n",
       "  <tbody>\n",
       "    <tr>\n",
       "      <th>0</th>\n",
       "      <td>Apple</td>\n",
       "      <td>2023</td>\n",
       "      <td>6.16</td>\n",
       "      <td>114.30</td>\n",
       "      <td>383.28</td>\n",
       "      <td>3043.0</td>\n",
       "      <td>111.08</td>\n",
       "      <td>62.14</td>\n",
       "      <td>352.58</td>\n",
       "      <td>61.55</td>\n",
       "      <td>USA</td>\n",
       "      <td>195.71</td>\n",
       "      <td>Software, Tech, Electronics, Dow jones, Tech H...</td>\n",
       "    </tr>\n",
       "    <tr>\n",
       "      <th>1</th>\n",
       "      <td>Apple</td>\n",
       "      <td>2022</td>\n",
       "      <td>5.92</td>\n",
       "      <td>113.96</td>\n",
       "      <td>387.53</td>\n",
       "      <td>2066.0</td>\n",
       "      <td>120.06</td>\n",
       "      <td>50.67</td>\n",
       "      <td>352.75</td>\n",
       "      <td>48.30</td>\n",
       "      <td>USA</td>\n",
       "      <td>195.71</td>\n",
       "      <td>Software, Tech, Electronics, Dow jones, Tech H...</td>\n",
       "    </tr>\n",
       "    <tr>\n",
       "      <th>2</th>\n",
       "      <td>Apple</td>\n",
       "      <td>2021</td>\n",
       "      <td>6.08</td>\n",
       "      <td>116.90</td>\n",
       "      <td>378.32</td>\n",
       "      <td>2901.0</td>\n",
       "      <td>124.71</td>\n",
       "      <td>63.09</td>\n",
       "      <td>351.00</td>\n",
       "      <td>62.63</td>\n",
       "      <td>USA</td>\n",
       "      <td>195.71</td>\n",
       "      <td>Software, Tech, Electronics, Dow jones, Tech H...</td>\n",
       "    </tr>\n",
       "    <tr>\n",
       "      <th>3</th>\n",
       "      <td>Apple</td>\n",
       "      <td>2020</td>\n",
       "      <td>3.74</td>\n",
       "      <td>74.25</td>\n",
       "      <td>294.13</td>\n",
       "      <td>2255.0</td>\n",
       "      <td>112.43</td>\n",
       "      <td>65.33</td>\n",
       "      <td>323.88</td>\n",
       "      <td>90.94</td>\n",
       "      <td>USA</td>\n",
       "      <td>195.71</td>\n",
       "      <td>Software, Tech, Electronics, Dow jones, Tech H...</td>\n",
       "    </tr>\n",
       "    <tr>\n",
       "      <th>4</th>\n",
       "      <td>Apple</td>\n",
       "      <td>2019</td>\n",
       "      <td>3.19</td>\n",
       "      <td>66.15</td>\n",
       "      <td>267.68</td>\n",
       "      <td>1287.0</td>\n",
       "      <td>108.04</td>\n",
       "      <td>90.48</td>\n",
       "      <td>338.51</td>\n",
       "      <td>100.55</td>\n",
       "      <td>USA</td>\n",
       "      <td>195.71</td>\n",
       "      <td>Software, Tech, Electronics, Dow jones, Tech H...</td>\n",
       "    </tr>\n",
       "  </tbody>\n",
       "</table>\n",
       "</div>"
      ],
      "text/plain": [
       "  Company  Year  EPS ($)  Earnings ($B)  Revenue ($B)  Marketcap ($B)  \\\n",
       "0   Apple  2023     6.16         114.30        383.28          3043.0   \n",
       "1   Apple  2022     5.92         113.96        387.53          2066.0   \n",
       "2   Apple  2021     6.08         116.90        378.32          2901.0   \n",
       "3   Apple  2020     3.74          74.25        294.13          2255.0   \n",
       "4   Apple  2019     3.19          66.15        267.68          1287.0   \n",
       "\n",
       "   Total Debts ($B)  Net Assets ($B)  Total Assets ($B)  Cash on hand ($B)  \\\n",
       "0            111.08            62.14             352.58              61.55   \n",
       "1            120.06            50.67             352.75              48.30   \n",
       "2            124.71            63.09             351.00              62.63   \n",
       "3            112.43            65.33             323.88              90.94   \n",
       "4            108.04            90.48             338.51             100.55   \n",
       "\n",
       "  Country  Share price ($)                                         Categories  \n",
       "0     USA           195.71  Software, Tech, Electronics, Dow jones, Tech H...  \n",
       "1     USA           195.71  Software, Tech, Electronics, Dow jones, Tech H...  \n",
       "2     USA           195.71  Software, Tech, Electronics, Dow jones, Tech H...  \n",
       "3     USA           195.71  Software, Tech, Electronics, Dow jones, Tech H...  \n",
       "4     USA           195.71  Software, Tech, Electronics, Dow jones, Tech H...  "
      ]
     },
     "execution_count": 342,
     "metadata": {},
     "output_type": "execute_result"
    }
   ],
   "source": [
    "\n",
    "tech_cat_mark = df[\"Categories\"].str.contains(\"Tech\")\n",
    "tech_df = df[tech_cat_mark].copy()\n",
    "tech_df.head()"
   ]
  },
  {
   "cell_type": "markdown",
   "metadata": {},
   "source": [
    "Để đánh giá quy mô của một công ty hay một danh mục cụ thể, ta sẽ dùng chỉ số `Marketcap`.\n",
    "\n",
    "Ta quan tâm đến giá trị `Marketcap ($B)` để xem quy mô trong mảng `Tech` của các nước theo các năm nên ta chỉ giữ lại:\n",
    "\n",
    "- `Year`\n",
    "\n",
    "- `Company`\n",
    "\n",
    "- `Marketcap ($B)`\n",
    "\n",
    "- `Country`"
   ]
  },
  {
   "cell_type": "code",
   "execution_count": 343,
   "metadata": {},
   "outputs": [
    {
     "data": {
      "text/html": [
       "<div>\n",
       "<style scoped>\n",
       "    .dataframe tbody tr th:only-of-type {\n",
       "        vertical-align: middle;\n",
       "    }\n",
       "\n",
       "    .dataframe tbody tr th {\n",
       "        vertical-align: top;\n",
       "    }\n",
       "\n",
       "    .dataframe thead th {\n",
       "        text-align: right;\n",
       "    }\n",
       "</style>\n",
       "<table border=\"1\" class=\"dataframe\">\n",
       "  <thead>\n",
       "    <tr style=\"text-align: right;\">\n",
       "      <th></th>\n",
       "      <th>Company</th>\n",
       "      <th>Year</th>\n",
       "      <th>Marketcap ($B)</th>\n",
       "      <th>Country</th>\n",
       "    </tr>\n",
       "  </thead>\n",
       "  <tbody>\n",
       "    <tr>\n",
       "      <th>0</th>\n",
       "      <td>Apple</td>\n",
       "      <td>2023</td>\n",
       "      <td>3043.0</td>\n",
       "      <td>USA</td>\n",
       "    </tr>\n",
       "    <tr>\n",
       "      <th>1</th>\n",
       "      <td>Apple</td>\n",
       "      <td>2022</td>\n",
       "      <td>2066.0</td>\n",
       "      <td>USA</td>\n",
       "    </tr>\n",
       "    <tr>\n",
       "      <th>2</th>\n",
       "      <td>Apple</td>\n",
       "      <td>2021</td>\n",
       "      <td>2901.0</td>\n",
       "      <td>USA</td>\n",
       "    </tr>\n",
       "    <tr>\n",
       "      <th>3</th>\n",
       "      <td>Apple</td>\n",
       "      <td>2020</td>\n",
       "      <td>2255.0</td>\n",
       "      <td>USA</td>\n",
       "    </tr>\n",
       "    <tr>\n",
       "      <th>4</th>\n",
       "      <td>Apple</td>\n",
       "      <td>2019</td>\n",
       "      <td>1287.0</td>\n",
       "      <td>USA</td>\n",
       "    </tr>\n",
       "  </tbody>\n",
       "</table>\n",
       "</div>"
      ],
      "text/plain": [
       "  Company  Year  Marketcap ($B) Country\n",
       "0   Apple  2023          3043.0     USA\n",
       "1   Apple  2022          2066.0     USA\n",
       "2   Apple  2021          2901.0     USA\n",
       "3   Apple  2020          2255.0     USA\n",
       "4   Apple  2019          1287.0     USA"
      ]
     },
     "execution_count": 343,
     "metadata": {},
     "output_type": "execute_result"
    }
   ],
   "source": [
    "tech_df = tech_df[[\"Company\", \"Year\", \"Marketcap ($B)\", \"Country\"]]\n",
    "tech_df.head()"
   ]
  },
  {
   "cell_type": "markdown",
   "metadata": {},
   "source": [
    "### Sự thay đổi về tổng giá trị vốn hoá trong danh mục `Tech` qua các năm"
   ]
  },
  {
   "cell_type": "markdown",
   "metadata": {},
   "source": [
    "Tạo DataFrame thể hiện tổng giá trị vốn hoá theo từng năm"
   ]
  },
  {
   "cell_type": "code",
   "execution_count": 344,
   "metadata": {},
   "outputs": [
    {
     "data": {
      "text/html": [
       "<div>\n",
       "<style scoped>\n",
       "    .dataframe tbody tr th:only-of-type {\n",
       "        vertical-align: middle;\n",
       "    }\n",
       "\n",
       "    .dataframe tbody tr th {\n",
       "        vertical-align: top;\n",
       "    }\n",
       "\n",
       "    .dataframe thead th {\n",
       "        text-align: right;\n",
       "    }\n",
       "</style>\n",
       "<table border=\"1\" class=\"dataframe\">\n",
       "  <thead>\n",
       "    <tr style=\"text-align: right;\">\n",
       "      <th></th>\n",
       "      <th>Year</th>\n",
       "      <th>Tech Total Marketcap</th>\n",
       "    </tr>\n",
       "  </thead>\n",
       "  <tbody>\n",
       "    <tr>\n",
       "      <th>0</th>\n",
       "      <td>2001</td>\n",
       "      <td>6523.88088</td>\n",
       "    </tr>\n",
       "    <tr>\n",
       "      <th>1</th>\n",
       "      <td>2002</td>\n",
       "      <td>5908.50065</td>\n",
       "    </tr>\n",
       "    <tr>\n",
       "      <th>2</th>\n",
       "      <td>2003</td>\n",
       "      <td>6416.59217</td>\n",
       "    </tr>\n",
       "    <tr>\n",
       "      <th>3</th>\n",
       "      <td>2004</td>\n",
       "      <td>6389.17181</td>\n",
       "    </tr>\n",
       "    <tr>\n",
       "      <th>4</th>\n",
       "      <td>2005</td>\n",
       "      <td>6353.40965</td>\n",
       "    </tr>\n",
       "  </tbody>\n",
       "</table>\n",
       "</div>"
      ],
      "text/plain": [
       "   Year  Tech Total Marketcap\n",
       "0  2001            6523.88088\n",
       "1  2002            5908.50065\n",
       "2  2003            6416.59217\n",
       "3  2004            6389.17181\n",
       "4  2005            6353.40965"
      ]
     },
     "execution_count": 344,
     "metadata": {},
     "output_type": "execute_result"
    }
   ],
   "source": [
    "total_marketcap_tech_df = tech_df.groupby(\"Year\")[\"Marketcap ($B)\"].sum().to_frame().reset_index()\n",
    "total_marketcap_tech_df.rename(columns={'Marketcap ($B)': 'Tech Total Marketcap'}, inplace=True)\n",
    "total_marketcap_tech_df.head()"
   ]
  },
  {
   "cell_type": "code",
   "execution_count": 345,
   "metadata": {},
   "outputs": [
    {
     "data": {
      "image/png": "[encoded data removed]",
      "text/plain": [
       "<Figure size 1000x500 with 1 Axes>"
      ]
     },
     "metadata": {},
     "output_type": "display_data"
    }
   ],
   "source": [
    "plt.figure(figsize=(10, 5))\n",
    "sns.lineplot(data=total_marketcap_tech_df, x=\"Year\", y=\"Tech Total Marketcap\", marker='o')\n",
    "sns.set(style=\"whitegrid\")\n",
    "plt.title(\"GLOBAL MARKETCAP OF TECH 2001-2023\");"
   ]
  },
  {
   "cell_type": "markdown",
   "metadata": {},
   "source": [
    "**Nhận xét**\n",
    "\n",
    "- Tổng vốn hoá của thị trường danh mục `Tech` có xu hướng tăng dần qua các năm\n",
    "\n",
    "- Phát triển nhanh từ sau năm 2015\n",
    "\n",
    "- Đỉnh điểm là vào năm 2021, sau đó sụt giảm mạnh vào năm 2022 (nguyên nhân một phần đến từ dịch bệnh)\n",
    "\n",
    "- Năm 2023, tổng vốn hoá của thị trường đang có xu hướng tăng mạnh trở lại"
   ]
  },
  {
   "cell_type": "markdown",
   "metadata": {},
   "source": [
    "### Sự thay đổi về tỉ lệ vốn hoá của `Tech` so với tổng thể"
   ]
  },
  {
   "cell_type": "markdown",
   "metadata": {},
   "source": [
    "Tạo DataFrame chứa tổng giá trị vốn hoá của tất cả mọi danh mục"
   ]
  },
  {
   "cell_type": "code",
   "execution_count": 346,
   "metadata": {},
   "outputs": [
    {
     "data": {
      "text/html": [
       "<div>\n",
       "<style scoped>\n",
       "    .dataframe tbody tr th:only-of-type {\n",
       "        vertical-align: middle;\n",
       "    }\n",
       "\n",
       "    .dataframe tbody tr th {\n",
       "        vertical-align: top;\n",
       "    }\n",
       "\n",
       "    .dataframe thead th {\n",
       "        text-align: right;\n",
       "    }\n",
       "</style>\n",
       "<table border=\"1\" class=\"dataframe\">\n",
       "  <thead>\n",
       "    <tr style=\"text-align: right;\">\n",
       "      <th></th>\n",
       "      <th>Year</th>\n",
       "      <th>Total Marketcap</th>\n",
       "    </tr>\n",
       "  </thead>\n",
       "  <tbody>\n",
       "    <tr>\n",
       "      <th>0</th>\n",
       "      <td>2001</td>\n",
       "      <td>36297.651915</td>\n",
       "    </tr>\n",
       "    <tr>\n",
       "      <th>1</th>\n",
       "      <td>2002</td>\n",
       "      <td>33315.812255</td>\n",
       "    </tr>\n",
       "    <tr>\n",
       "      <th>2</th>\n",
       "      <td>2003</td>\n",
       "      <td>34727.095955</td>\n",
       "    </tr>\n",
       "    <tr>\n",
       "      <th>3</th>\n",
       "      <td>2004</td>\n",
       "      <td>36343.161625</td>\n",
       "    </tr>\n",
       "    <tr>\n",
       "      <th>4</th>\n",
       "      <td>2005</td>\n",
       "      <td>37267.685355</td>\n",
       "    </tr>\n",
       "  </tbody>\n",
       "</table>\n",
       "</div>"
      ],
      "text/plain": [
       "   Year  Total Marketcap\n",
       "0  2001     36297.651915\n",
       "1  2002     33315.812255\n",
       "2  2003     34727.095955\n",
       "3  2004     36343.161625\n",
       "4  2005     37267.685355"
      ]
     },
     "execution_count": 346,
     "metadata": {},
     "output_type": "execute_result"
    }
   ],
   "source": [
    "total_marketcap_df = df.groupby('Year')['Marketcap ($B)'].sum().to_frame().reset_index()\n",
    "total_marketcap_df.rename(columns={'Marketcap ($B)': 'Total Marketcap'}, inplace=True)\n",
    "total_marketcap_df.head()"
   ]
  },
  {
   "cell_type": "markdown",
   "metadata": {},
   "source": [
    "Merge với tổng vốn hoá theo `Tech`"
   ]
  },
  {
   "cell_type": "code",
   "execution_count": 347,
   "metadata": {},
   "outputs": [
    {
     "data": {
      "text/html": [
       "<div>\n",
       "<style scoped>\n",
       "    .dataframe tbody tr th:only-of-type {\n",
       "        vertical-align: middle;\n",
       "    }\n",
       "\n",
       "    .dataframe tbody tr th {\n",
       "        vertical-align: top;\n",
       "    }\n",
       "\n",
       "    .dataframe thead th {\n",
       "        text-align: right;\n",
       "    }\n",
       "</style>\n",
       "<table border=\"1\" class=\"dataframe\">\n",
       "  <thead>\n",
       "    <tr style=\"text-align: right;\">\n",
       "      <th></th>\n",
       "      <th>Year</th>\n",
       "      <th>Total Marketcap</th>\n",
       "      <th>Tech Total Marketcap</th>\n",
       "    </tr>\n",
       "  </thead>\n",
       "  <tbody>\n",
       "    <tr>\n",
       "      <th>0</th>\n",
       "      <td>2001</td>\n",
       "      <td>36297.651915</td>\n",
       "      <td>6523.88088</td>\n",
       "    </tr>\n",
       "    <tr>\n",
       "      <th>1</th>\n",
       "      <td>2002</td>\n",
       "      <td>33315.812255</td>\n",
       "      <td>5908.50065</td>\n",
       "    </tr>\n",
       "    <tr>\n",
       "      <th>2</th>\n",
       "      <td>2003</td>\n",
       "      <td>34727.095955</td>\n",
       "      <td>6416.59217</td>\n",
       "    </tr>\n",
       "    <tr>\n",
       "      <th>3</th>\n",
       "      <td>2004</td>\n",
       "      <td>36343.161625</td>\n",
       "      <td>6389.17181</td>\n",
       "    </tr>\n",
       "    <tr>\n",
       "      <th>4</th>\n",
       "      <td>2005</td>\n",
       "      <td>37267.685355</td>\n",
       "      <td>6353.40965</td>\n",
       "    </tr>\n",
       "  </tbody>\n",
       "</table>\n",
       "</div>"
      ],
      "text/plain": [
       "   Year  Total Marketcap  Tech Total Marketcap\n",
       "0  2001     36297.651915            6523.88088\n",
       "1  2002     33315.812255            5908.50065\n",
       "2  2003     34727.095955            6416.59217\n",
       "3  2004     36343.161625            6389.17181\n",
       "4  2005     37267.685355            6353.40965"
      ]
     },
     "execution_count": 347,
     "metadata": {},
     "output_type": "execute_result"
    }
   ],
   "source": [
    "total_marketcap_df = total_marketcap_df.merge(total_marketcap_tech_df, how='inner', on='Year')\n",
    "total_marketcap_df.head()"
   ]
  },
  {
   "cell_type": "markdown",
   "metadata": {},
   "source": [
    "Tạo cột tỉ lệ giữa tổng vốn hoá của `Tech` so với tổng thể (%)"
   ]
  },
  {
   "cell_type": "code",
   "execution_count": 348,
   "metadata": {},
   "outputs": [
    {
     "data": {
      "text/html": [
       "<div>\n",
       "<style scoped>\n",
       "    .dataframe tbody tr th:only-of-type {\n",
       "        vertical-align: middle;\n",
       "    }\n",
       "\n",
       "    .dataframe tbody tr th {\n",
       "        vertical-align: top;\n",
       "    }\n",
       "\n",
       "    .dataframe thead th {\n",
       "        text-align: right;\n",
       "    }\n",
       "</style>\n",
       "<table border=\"1\" class=\"dataframe\">\n",
       "  <thead>\n",
       "    <tr style=\"text-align: right;\">\n",
       "      <th></th>\n",
       "      <th>Year</th>\n",
       "      <th>Total Marketcap</th>\n",
       "      <th>Tech Total Marketcap</th>\n",
       "      <th>Tech Marketcap Ratio</th>\n",
       "    </tr>\n",
       "  </thead>\n",
       "  <tbody>\n",
       "    <tr>\n",
       "      <th>0</th>\n",
       "      <td>2001</td>\n",
       "      <td>36297.651915</td>\n",
       "      <td>6523.88088</td>\n",
       "      <td>17.973286</td>\n",
       "    </tr>\n",
       "    <tr>\n",
       "      <th>1</th>\n",
       "      <td>2002</td>\n",
       "      <td>33315.812255</td>\n",
       "      <td>5908.50065</td>\n",
       "      <td>17.734824</td>\n",
       "    </tr>\n",
       "    <tr>\n",
       "      <th>2</th>\n",
       "      <td>2003</td>\n",
       "      <td>34727.095955</td>\n",
       "      <td>6416.59217</td>\n",
       "      <td>18.477192</td>\n",
       "    </tr>\n",
       "    <tr>\n",
       "      <th>3</th>\n",
       "      <td>2004</td>\n",
       "      <td>36343.161625</td>\n",
       "      <td>6389.17181</td>\n",
       "      <td>17.580121</td>\n",
       "    </tr>\n",
       "    <tr>\n",
       "      <th>4</th>\n",
       "      <td>2005</td>\n",
       "      <td>37267.685355</td>\n",
       "      <td>6353.40965</td>\n",
       "      <td>17.048039</td>\n",
       "    </tr>\n",
       "  </tbody>\n",
       "</table>\n",
       "</div>"
      ],
      "text/plain": [
       "   Year  Total Marketcap  Tech Total Marketcap  Tech Marketcap Ratio\n",
       "0  2001     36297.651915            6523.88088             17.973286\n",
       "1  2002     33315.812255            5908.50065             17.734824\n",
       "2  2003     34727.095955            6416.59217             18.477192\n",
       "3  2004     36343.161625            6389.17181             17.580121\n",
       "4  2005     37267.685355            6353.40965             17.048039"
      ]
     },
     "execution_count": 348,
     "metadata": {},
     "output_type": "execute_result"
    }
   ],
   "source": [
    "total_marketcap_df['Tech Marketcap Ratio'] = total_marketcap_df['Tech Total Marketcap'] / total_marketcap_df['Total Marketcap'] * 100\n",
    "total_marketcap_df.head()"
   ]
  },
  {
   "cell_type": "code",
   "execution_count": 349,
   "metadata": {},
   "outputs": [
    {
     "data": {
      "image/png": "[encoded data removed]",
      "text/plain": [
       "<Figure size 1000x500 with 1 Axes>"
      ]
     },
     "metadata": {},
     "output_type": "display_data"
    }
   ],
   "source": [
    "plt.figure(figsize=(10, 5))\n",
    "sns.lineplot(data=total_marketcap_df, x='Year', y='Tech Marketcap Ratio', marker='o')\n",
    "plt.title('TECH MARKETCAP RATIO CHANGES 2001-2023');"
   ]
  },
  {
   "cell_type": "markdown",
   "metadata": {},
   "source": [
    "**Nhận xét**\n",
    "\n",
    "- Tỉ lệ tổng vốn hoá của danh mục Tech so với tổng thể có nhiều biến động tăng giảm trong giai đoạn 2001-2014\n",
    "\n",
    "- Từ 2014-2021, tăng rất nhanh và liên tục. Chạm đỉnh vào năm 2021\n",
    "\n",
    "- Năm 2022 sụt giảm đáng kể\n",
    "\n",
    "- Năm 2023 đã tăng nhanh trở lại. Đây có thể là dấu hiệu phục hồi sau khi vượt qua dịch bệnh"
   ]
  },
  {
   "cell_type": "markdown",
   "metadata": {},
   "source": [
    "### Các quốc gia dẫn đầu trong mảng Tech hiện nay"
   ]
  },
  {
   "cell_type": "markdown",
   "metadata": {},
   "source": [
    "Khi đã có cái nhìn sơ lược về sự phát triển trên toàn cầu. Bây giờ chúng ta sẽ tìm ra đâu là các quốc gia đã dẫn đầu trong lĩnh vực này"
   ]
  },
  {
   "cell_type": "markdown",
   "metadata": {},
   "source": [
    "Tạo DataFrame mới chứa tổng vốn hoá theo quốc gia"
   ]
  },
  {
   "cell_type": "code",
   "execution_count": 350,
   "metadata": {},
   "outputs": [
    {
     "data": {
      "text/html": [
       "<div>\n",
       "<style scoped>\n",
       "    .dataframe tbody tr th:only-of-type {\n",
       "        vertical-align: middle;\n",
       "    }\n",
       "\n",
       "    .dataframe tbody tr th {\n",
       "        vertical-align: top;\n",
       "    }\n",
       "\n",
       "    .dataframe thead th {\n",
       "        text-align: right;\n",
       "    }\n",
       "</style>\n",
       "<table border=\"1\" class=\"dataframe\">\n",
       "  <thead>\n",
       "    <tr style=\"text-align: right;\">\n",
       "      <th></th>\n",
       "      <th>Country</th>\n",
       "      <th>Marketcap ($B)</th>\n",
       "    </tr>\n",
       "  </thead>\n",
       "  <tbody>\n",
       "    <tr>\n",
       "      <th>25</th>\n",
       "      <td>USA</td>\n",
       "      <td>18360.77</td>\n",
       "    </tr>\n",
       "    <tr>\n",
       "      <th>2</th>\n",
       "      <td>China</td>\n",
       "      <td>1151.67</td>\n",
       "    </tr>\n",
       "    <tr>\n",
       "      <th>22</th>\n",
       "      <td>Taiwan</td>\n",
       "      <td>762.51</td>\n",
       "    </tr>\n",
       "    <tr>\n",
       "      <th>18</th>\n",
       "      <td>South Korea</td>\n",
       "      <td>525.36</td>\n",
       "    </tr>\n",
       "    <tr>\n",
       "      <th>11</th>\n",
       "      <td>Japan</td>\n",
       "      <td>494.20</td>\n",
       "    </tr>\n",
       "  </tbody>\n",
       "</table>\n",
       "</div>"
      ],
      "text/plain": [
       "        Country  Marketcap ($B)\n",
       "25          USA        18360.77\n",
       "2         China         1151.67\n",
       "22       Taiwan          762.51\n",
       "18  South Korea          525.36\n",
       "11        Japan          494.20"
      ]
     },
     "execution_count": 350,
     "metadata": {},
     "output_type": "execute_result"
    }
   ],
   "source": [
    "tech_country_df = tech_df[tech_df[\"Year\"] == 2023].groupby(\"Country\")[\"Marketcap ($B)\"].sum().to_frame().reset_index()\n",
    "tech_country_df.sort_values(by=\"Marketcap ($B)\", inplace=True, ascending=False)\n",
    "tech_country_df.head()"
   ]
  },
  {
   "cell_type": "code",
   "execution_count": 351,
   "metadata": {},
   "outputs": [
    {
     "data": {
      "text/plain": [
       "Text(0.5, 1.0, 'Total marketcap in Tech by Country 2023')"
      ]
     },
     "execution_count": 351,
     "metadata": {},
     "output_type": "execute_result"
    },
    {
     "data": {
      "image/png": "[encoded data removed]",
      "text/plain": [
       "<Figure size 640x480 with 1 Axes>"
      ]
     },
     "metadata": {},
     "output_type": "display_data"
    }
   ],
   "source": [
    "\n",
    "sns.barplot(data=tech_country_df.head(), x=\"Country\", y=\"Marketcap ($B)\")\n",
    "plt.title(\"Total marketcap in Tech by Country 2023\")"
   ]
  },
  {
   "cell_type": "markdown",
   "metadata": {},
   "source": [
    "**Nhận xét**\n",
    "\n",
    "- Hiện nay, `USA` là nước dẫn đầu và vượt rất xa so với phần còn lại, tổng giá trị vốn hoá gấp nhiều lần các nước khác.\n",
    "\n",
    "- Tiếp đến là `China`.\n",
    "\n",
    "- `Taiwan`, `South Korea` và `Japan` có sự chênh lệch không đáng kể"
   ]
  },
  {
   "cell_type": "markdown",
   "metadata": {},
   "source": [
    "___\n",
    "### Kết luận\n",
    "\n",
    "- Danh mục `Tech` là xu hướng phát triển của thế giới hiện nay và đang có xu hướng gia tăng về quy mô.\n",
    "\n",
    "- Tốc độ phát triển rất nhanh.\n",
    "\n",
    "- Đang dần có xu hướng trở thành ngành có quy mô lớn nhất trên thế giới."
   ]
  }
 ],
 "metadata": {
  "kernelspec": {
   "display_name": "Python 3 (ipykernel)",
   "language": "python",
   "name": "python3"
  },
  "language_info": {
   "codemirror_mode": {
    "name": "ipython",
    "version": 3
   },
   "file_extension": ".py",
   "mimetype": "text/x-python",
   "name": "python",
   "nbconvert_exporter": "python",
   "pygments_lexer": "ipython3",
   "version": "3.10.8"
  }
 },
 "nbformat": 4,
 "nbformat_minor": 2
}
