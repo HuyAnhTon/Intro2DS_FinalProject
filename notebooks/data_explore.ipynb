{
 "cells": [
  {
   "cell_type": "markdown",
   "metadata": {},
   "source": [
    "# II. Data explore"
   ]
  },
  {
   "cell_type": "markdown",
   "metadata": {},
   "source": [
    "## Import các thư viện cần thiết"
   ]
  },
  {
   "cell_type": "code",
   "execution_count": 897,
   "metadata": {},
   "outputs": [],
   "source": [
    "import pandas as pd\n",
    "import numpy as np \n",
    "import matplotlib.pyplot as plt\n",
    "import re\n"
   ]
  },
  {
   "cell_type": "markdown",
   "metadata": {},
   "source": [
    "## Load dataset đã tạo ở phần trước"
   ]
  },
  {
   "cell_type": "code",
   "execution_count": 898,
   "metadata": {},
   "outputs": [],
   "source": [
    "raw_df = pd.read_csv(\"../Data/raw/raw_data.csv\")"
   ]
  },
  {
   "cell_type": "markdown",
   "metadata": {},
   "source": [
    "In ra 5 dòng đầu tiên của dataset"
   ]
  },
  {
   "cell_type": "code",
   "execution_count": 899,
   "metadata": {},
   "outputs": [
    {
     "data": {
      "text/html": [
       "<div>\n",
       "<style scoped>\n",
       "    .dataframe tbody tr th:only-of-type {\n",
       "        vertical-align: middle;\n",
       "    }\n",
       "\n",
       "    .dataframe tbody tr th {\n",
       "        vertical-align: top;\n",
       "    }\n",
       "\n",
       "    .dataframe thead th {\n",
       "        text-align: right;\n",
       "    }\n",
       "</style>\n",
       "<table border=\"1\" class=\"dataframe\">\n",
       "  <thead>\n",
       "    <tr style=\"text-align: right;\">\n",
       "      <th></th>\n",
       "      <th>Company</th>\n",
       "      <th>Year</th>\n",
       "      <th>EPS</th>\n",
       "      <th>Earnings</th>\n",
       "      <th>Revenue</th>\n",
       "      <th>Marketcap</th>\n",
       "      <th>Total Debts</th>\n",
       "      <th>Net Assets</th>\n",
       "      <th>Total Assets</th>\n",
       "      <th>Cash on hand</th>\n",
       "      <th>Country</th>\n",
       "      <th>Share price</th>\n",
       "      <th>Categories</th>\n",
       "    </tr>\n",
       "  </thead>\n",
       "  <tbody>\n",
       "    <tr>\n",
       "      <th>0</th>\n",
       "      <td>Apple</td>\n",
       "      <td>2023</td>\n",
       "      <td>$6.16</td>\n",
       "      <td>$114.30 B</td>\n",
       "      <td>$383.28 B</td>\n",
       "      <td>$3.043 T</td>\n",
       "      <td>$111.08 B</td>\n",
       "      <td>$62.14 B</td>\n",
       "      <td>$352.58 B</td>\n",
       "      <td>$61.55 B</td>\n",
       "      <td>USA</td>\n",
       "      <td>$195.71</td>\n",
       "      <td>👨‍💻 Software, 👩‍💻 Tech, 🔌 Electronics, 🇺🇸 Dow ...</td>\n",
       "    </tr>\n",
       "    <tr>\n",
       "      <th>1</th>\n",
       "      <td>Apple</td>\n",
       "      <td>2022</td>\n",
       "      <td>$5.92</td>\n",
       "      <td>$113.96 B</td>\n",
       "      <td>$387.53 B</td>\n",
       "      <td>$2.066 T</td>\n",
       "      <td>$120.06 B</td>\n",
       "      <td>$50.67 B</td>\n",
       "      <td>$352.75 B</td>\n",
       "      <td>$48.30 B</td>\n",
       "      <td>USA</td>\n",
       "      <td>$195.71</td>\n",
       "      <td>👨‍💻 Software, 👩‍💻 Tech, 🔌 Electronics, 🇺🇸 Dow ...</td>\n",
       "    </tr>\n",
       "    <tr>\n",
       "      <th>2</th>\n",
       "      <td>Apple</td>\n",
       "      <td>2021</td>\n",
       "      <td>$6.08</td>\n",
       "      <td>$116.90 B</td>\n",
       "      <td>$378.32 B</td>\n",
       "      <td>$2.901 T</td>\n",
       "      <td>$124.71 B</td>\n",
       "      <td>$63.09 B</td>\n",
       "      <td>$351.00 B</td>\n",
       "      <td>$62.63 B</td>\n",
       "      <td>USA</td>\n",
       "      <td>$195.71</td>\n",
       "      <td>👨‍💻 Software, 👩‍💻 Tech, 🔌 Electronics, 🇺🇸 Dow ...</td>\n",
       "    </tr>\n",
       "    <tr>\n",
       "      <th>3</th>\n",
       "      <td>Apple</td>\n",
       "      <td>2020</td>\n",
       "      <td>$3.74</td>\n",
       "      <td>$74.25 B</td>\n",
       "      <td>$294.13 B</td>\n",
       "      <td>$2.255 T</td>\n",
       "      <td>$112.43 B</td>\n",
       "      <td>$65.33 B</td>\n",
       "      <td>$323.88 B</td>\n",
       "      <td>$90.94 B</td>\n",
       "      <td>USA</td>\n",
       "      <td>$195.71</td>\n",
       "      <td>👨‍💻 Software, 👩‍💻 Tech, 🔌 Electronics, 🇺🇸 Dow ...</td>\n",
       "    </tr>\n",
       "    <tr>\n",
       "      <th>4</th>\n",
       "      <td>Apple</td>\n",
       "      <td>2019</td>\n",
       "      <td>$3.19</td>\n",
       "      <td>$66.15 B</td>\n",
       "      <td>$267.68 B</td>\n",
       "      <td>$1.287 T</td>\n",
       "      <td>$108.04 B</td>\n",
       "      <td>$90.48 B</td>\n",
       "      <td>$338.51 B</td>\n",
       "      <td>$100.55 B</td>\n",
       "      <td>USA</td>\n",
       "      <td>$195.71</td>\n",
       "      <td>👨‍💻 Software, 👩‍💻 Tech, 🔌 Electronics, 🇺🇸 Dow ...</td>\n",
       "    </tr>\n",
       "  </tbody>\n",
       "</table>\n",
       "</div>"
      ],
      "text/plain": [
       "  Company  Year    EPS   Earnings    Revenue Marketcap Total Debts Net Assets  \\\n",
       "0   Apple  2023  $6.16  $114.30 B  $383.28 B  $3.043 T   $111.08 B   $62.14 B   \n",
       "1   Apple  2022  $5.92  $113.96 B  $387.53 B  $2.066 T   $120.06 B   $50.67 B   \n",
       "2   Apple  2021  $6.08  $116.90 B  $378.32 B  $2.901 T   $124.71 B   $63.09 B   \n",
       "3   Apple  2020  $3.74   $74.25 B  $294.13 B  $2.255 T   $112.43 B   $65.33 B   \n",
       "4   Apple  2019  $3.19   $66.15 B  $267.68 B  $1.287 T   $108.04 B   $90.48 B   \n",
       "\n",
       "  Total Assets Cash on hand Country Share price  \\\n",
       "0    $352.58 B     $61.55 B     USA     $195.71   \n",
       "1    $352.75 B     $48.30 B     USA     $195.71   \n",
       "2    $351.00 B     $62.63 B     USA     $195.71   \n",
       "3    $323.88 B     $90.94 B     USA     $195.71   \n",
       "4    $338.51 B    $100.55 B     USA     $195.71   \n",
       "\n",
       "                                          Categories  \n",
       "0  👨‍💻 Software, 👩‍💻 Tech, 🔌 Electronics, 🇺🇸 Dow ...  \n",
       "1  👨‍💻 Software, 👩‍💻 Tech, 🔌 Electronics, 🇺🇸 Dow ...  \n",
       "2  👨‍💻 Software, 👩‍💻 Tech, 🔌 Electronics, 🇺🇸 Dow ...  \n",
       "3  👨‍💻 Software, 👩‍💻 Tech, 🔌 Electronics, 🇺🇸 Dow ...  \n",
       "4  👨‍💻 Software, 👩‍💻 Tech, 🔌 Electronics, 🇺🇸 Dow ...  "
      ]
     },
     "execution_count": 899,
     "metadata": {},
     "output_type": "execute_result"
    }
   ],
   "source": [
    "raw_df.head()"
   ]
  },
  {
   "cell_type": "markdown",
   "metadata": {},
   "source": [
    "## Số dòng và số cột"
   ]
  },
  {
   "cell_type": "code",
   "execution_count": 900,
   "metadata": {},
   "outputs": [
    {
     "name": "stdout",
     "output_type": "stream",
     "text": [
      "Dataset có 69460 dòng và 13 cột\n"
     ]
    }
   ],
   "source": [
    "n_rows, n_cols = raw_df.shape\n",
    "print(f\"Dataset có {n_rows} dòng và {n_cols} cột\")"
   ]
  },
  {
   "cell_type": "markdown",
   "metadata": {},
   "source": [
    "## Ý nghĩa của các dòng\n",
    "\n",
    "1 dòng trong dataset là một observation ghi nhận các thông tin của các công ty theo từng năm. Các thông tin của mỗi dòng cung cấp cho ta cái nhìn tổng quan về quy mô, tình trạng hoạt động... của các công ty"
   ]
  },
  {
   "cell_type": "markdown",
   "metadata": {},
   "source": [
    "## Kiểm tra sự trùng lắp giữa các dòng"
   ]
  },
  {
   "cell_type": "code",
   "execution_count": 901,
   "metadata": {},
   "outputs": [
    {
     "name": "stdout",
     "output_type": "stream",
     "text": [
      "Có 23506 dòng trùng nhau\n"
     ]
    }
   ],
   "source": [
    "n_dups = raw_df.duplicated().sum()\n",
    "\n",
    "if n_dups:\n",
    "    print(f\"Có {n_dups} dòng trùng nhau\")\n",
    "else:\n",
    "    print(\"Không có dòng bị trùng\")"
   ]
  },
  {
   "cell_type": "markdown",
   "metadata": {},
   "source": [
    "Xóa các dòng bị trùng lắp"
   ]
  },
  {
   "cell_type": "code",
   "execution_count": 902,
   "metadata": {},
   "outputs": [
    {
     "name": "stdout",
     "output_type": "stream",
     "text": [
      "Không có dòng bị trùng\n"
     ]
    }
   ],
   "source": [
    "raw_df.drop_duplicates(inplace=True)\n",
    "\n",
    "# Kiểm tra lại sau khi xóa các dòng bị trùng\n",
    "if raw_df.duplicated().sum():\n",
    "    print(f\"Có {raw_df.duplicated().sum()} dòng trùng nhau\")\n",
    "else:\n",
    "    print(\"Không có dòng bị trùng\")"
   ]
  },
  {
   "cell_type": "code",
   "execution_count": 903,
   "metadata": {},
   "outputs": [
    {
     "data": {
      "text/html": [
       "<div>\n",
       "<style scoped>\n",
       "    .dataframe tbody tr th:only-of-type {\n",
       "        vertical-align: middle;\n",
       "    }\n",
       "\n",
       "    .dataframe tbody tr th {\n",
       "        vertical-align: top;\n",
       "    }\n",
       "\n",
       "    .dataframe thead th {\n",
       "        text-align: right;\n",
       "    }\n",
       "</style>\n",
       "<table border=\"1\" class=\"dataframe\">\n",
       "  <thead>\n",
       "    <tr style=\"text-align: right;\">\n",
       "      <th></th>\n",
       "      <th>Company</th>\n",
       "      <th>Year</th>\n",
       "      <th>EPS</th>\n",
       "      <th>Earnings</th>\n",
       "      <th>Revenue</th>\n",
       "      <th>Marketcap</th>\n",
       "      <th>Total Debts</th>\n",
       "      <th>Net Assets</th>\n",
       "      <th>Total Assets</th>\n",
       "      <th>Cash on hand</th>\n",
       "      <th>Country</th>\n",
       "      <th>Share price</th>\n",
       "      <th>Categories</th>\n",
       "    </tr>\n",
       "  </thead>\n",
       "  <tbody>\n",
       "    <tr>\n",
       "      <th>63638</th>\n",
       "      <td>Gjensidige Forsikring</td>\n",
       "      <td>2003</td>\n",
       "      <td>NaN</td>\n",
       "      <td>NaN</td>\n",
       "      <td>NaN</td>\n",
       "      <td>NaN</td>\n",
       "      <td>NaN</td>\n",
       "      <td>NaN</td>\n",
       "      <td>NaN</td>\n",
       "      <td>NaN</td>\n",
       "      <td>Norway</td>\n",
       "      <td>$16.94</td>\n",
       "      <td>🏦 Insurance</td>\n",
       "    </tr>\n",
       "    <tr>\n",
       "      <th>5192</th>\n",
       "      <td>SK Hynix</td>\n",
       "      <td>2006</td>\n",
       "      <td>NaN</td>\n",
       "      <td>NaN</td>\n",
       "      <td>NaN</td>\n",
       "      <td>NaN</td>\n",
       "      <td>NaN</td>\n",
       "      <td>NaN</td>\n",
       "      <td>NaN</td>\n",
       "      <td>NaN</td>\n",
       "      <td>South Korea</td>\n",
       "      <td>$97.12</td>\n",
       "      <td>📟 Semiconductors, 👩‍💻 Tech, 💻 Tech Hardware</td>\n",
       "    </tr>\n",
       "    <tr>\n",
       "      <th>41026</th>\n",
       "      <td>The Hartford</td>\n",
       "      <td>2006</td>\n",
       "      <td>$8.91</td>\n",
       "      <td>$3.87 B</td>\n",
       "      <td>$26.50 B</td>\n",
       "      <td>$30.16 B</td>\n",
       "      <td>$4.36 B</td>\n",
       "      <td>$18.87 B</td>\n",
       "      <td>$326.71 B</td>\n",
       "      <td>$3.34 B</td>\n",
       "      <td>USA</td>\n",
       "      <td>$78.28</td>\n",
       "      <td>🏦 Insurance, 💳 Financial services</td>\n",
       "    </tr>\n",
       "    <tr>\n",
       "      <th>64711</th>\n",
       "      <td>U.S. Steel</td>\n",
       "      <td>2011</td>\n",
       "      <td>-$0.48</td>\n",
       "      <td>$9 M</td>\n",
       "      <td>$19.88 B</td>\n",
       "      <td>$3.81 B</td>\n",
       "      <td>$4.22 B</td>\n",
       "      <td>$3.48 B</td>\n",
       "      <td>$16.06 B</td>\n",
       "      <td>$0.40 B</td>\n",
       "      <td>USA</td>\n",
       "      <td>$35.90</td>\n",
       "      <td>🔩 Steel producers, 🔩 Steel industry</td>\n",
       "    </tr>\n",
       "    <tr>\n",
       "      <th>67666</th>\n",
       "      <td>Klaviyo</td>\n",
       "      <td>2023</td>\n",
       "      <td>NaN</td>\n",
       "      <td>-$0.33 B</td>\n",
       "      <td>$0.44 B</td>\n",
       "      <td>$7.72 B</td>\n",
       "      <td>NaN</td>\n",
       "      <td>NaN</td>\n",
       "      <td>NaN</td>\n",
       "      <td>NaN</td>\n",
       "      <td>USA</td>\n",
       "      <td>$29.88</td>\n",
       "      <td>👨‍💻 Software, 👩‍💻 Tech</td>\n",
       "    </tr>\n",
       "  </tbody>\n",
       "</table>\n",
       "</div>"
      ],
      "text/plain": [
       "                     Company  Year     EPS  Earnings   Revenue Marketcap  \\\n",
       "63638  Gjensidige Forsikring  2003     NaN       NaN       NaN       NaN   \n",
       "5192                SK Hynix  2006     NaN       NaN       NaN       NaN   \n",
       "41026           The Hartford  2006   $8.91   $3.87 B  $26.50 B  $30.16 B   \n",
       "64711             U.S. Steel  2011  -$0.48      $9 M  $19.88 B   $3.81 B   \n",
       "67666                Klaviyo  2023     NaN  -$0.33 B   $0.44 B   $7.72 B   \n",
       "\n",
       "      Total Debts Net Assets Total Assets Cash on hand      Country  \\\n",
       "63638         NaN        NaN          NaN          NaN       Norway   \n",
       "5192          NaN        NaN          NaN          NaN  South Korea   \n",
       "41026     $4.36 B   $18.87 B    $326.71 B      $3.34 B          USA   \n",
       "64711     $4.22 B    $3.48 B     $16.06 B      $0.40 B          USA   \n",
       "67666         NaN        NaN          NaN          NaN          USA   \n",
       "\n",
       "      Share price                                   Categories  \n",
       "63638      $16.94                                  🏦 Insurance  \n",
       "5192       $97.12  📟 Semiconductors, 👩‍💻 Tech, 💻 Tech Hardware  \n",
       "41026      $78.28            🏦 Insurance, 💳 Financial services  \n",
       "64711      $35.90          🔩 Steel producers, 🔩 Steel industry  \n",
       "67666      $29.88                       👨‍💻 Software, 👩‍💻 Tech  "
      ]
     },
     "execution_count": 903,
     "metadata": {},
     "output_type": "execute_result"
    }
   ],
   "source": [
    "raw_df.sample(5)"
   ]
  },
  {
   "cell_type": "code",
   "execution_count": 904,
   "metadata": {},
   "outputs": [
    {
     "data": {
      "text/plain": [
       "Company\n",
       "(HLBank) Hong Leong Bank          23\n",
       "Oriental Land                     23\n",
       "PMetal (Press Metal Aluminium)    23\n",
       "PKO Bank Polski                   23\n",
       "PKN Orlen                         23\n",
       "                                  ..\n",
       "Ericsson                          23\n",
       "Equity Residential                23\n",
       "Equity LifeStyle Properties       23\n",
       "Equitable Holdings                23\n",
       "“K” Line                          23\n",
       "Length: 1998, dtype: int64"
      ]
     },
     "execution_count": 904,
     "metadata": {},
     "output_type": "execute_result"
    }
   ],
   "source": [
    "# ô xóa\n",
    "sorted_data = raw_df.groupby('Company').size().sort_values(ascending=False)\n",
    "sorted_data"
   ]
  },
  {
   "cell_type": "markdown",
   "metadata": {},
   "source": [
    "## Ý nghĩa của các cột"
   ]
  },
  {
   "cell_type": "markdown",
   "metadata": {},
   "source": [
    "- `Company`: tên công ty\n",
    "\n",
    "- `Year`: năm ghi nhận\n",
    "\n",
    "- `EPS`: lợi nhuận / cổ phần\n",
    "\n",
    "- `Earnings`: lợi nhuận\n",
    "\n",
    "- `Revenue`: doanh thu\n",
    "\n",
    "- `Marketcap`: vốn hoá thị trường\n",
    "\n",
    "- `Total Debts`: tổng nợ\n",
    "\n",
    "- `Net Assets`: tài sản ròng\n",
    "\n",
    "- `Total Assets`: tổng tài sản\n",
    "\n",
    "- `Cash on hand`: tiền mặt có sẵn\n",
    "\n",
    "- `Country`: quốc giá\n",
    "\n",
    "- `Share price`: giá cổ phiếu\n",
    "\n",
    "- `Categories`: danh mục công ty"
   ]
  },
  {
   "cell_type": "markdown",
   "metadata": {},
   "source": [
    "## Kiểu dữ liệu mỗi cột"
   ]
  },
  {
   "cell_type": "code",
   "execution_count": 905,
   "metadata": {},
   "outputs": [
    {
     "data": {
      "text/plain": [
       "Company         object\n",
       "Year             int64\n",
       "EPS             object\n",
       "Earnings        object\n",
       "Revenue         object\n",
       "Marketcap       object\n",
       "Total Debts     object\n",
       "Net Assets      object\n",
       "Total Assets    object\n",
       "Cash on hand    object\n",
       "Country         object\n",
       "Share price     object\n",
       "Categories      object\n",
       "dtype: object"
      ]
     },
     "execution_count": 905,
     "metadata": {},
     "output_type": "execute_result"
    }
   ],
   "source": [
    "dtypes = raw_df.dtypes\n",
    "dtypes"
   ]
  },
  {
   "cell_type": "markdown",
   "metadata": {},
   "source": [
    "Kiểu dữ liệu của `Year` là `int64`. Tuy nhiên, ta nhận thấy nó nên thuộc `Categorical` thì hợp lý hơn `Numerical` nên ta sẽ đổi sang kiểu `object`"
   ]
  },
  {
   "cell_type": "code",
   "execution_count": 906,
   "metadata": {},
   "outputs": [],
   "source": [
    "raw_df[\"Year\"] = raw_df[\"Year\"].astype(\"object\")"
   ]
  },
  {
   "cell_type": "markdown",
   "metadata": {},
   "source": [
    "## Chuẩn hoá dữ liệu"
   ]
  },
  {
   "cell_type": "markdown",
   "metadata": {},
   "source": [
    "EPS, Earnings, Revenue, Marketcap, Total Debts, Net Assets, Total Assets, Cash on hand, Share price: Các cột này chứa dữ liệu số nhưng có kèm theo ký hiệu đơn vị như \"$\", \"B\" (tượng trưng cho tỷ đô la). Do đó, ta cần loại bỏ các ký tự không cần thiết và chuyển đổi sang kiểu float.  \n",
    "    Trong cột, có các kí hiệu `T`, `B`, `M` tượng trưng cho ` nghìn tỷ `, `  tỷ ` ,  ` triệu ` . Ta sẽ chuyển hết về `B`."
   ]
  },
  {
   "cell_type": "code",
   "execution_count": 907,
   "metadata": {
    "scrolled": true
   },
   "outputs": [
    {
     "data": {
      "text/html": [
       "<div>\n",
       "<style scoped>\n",
       "    .dataframe tbody tr th:only-of-type {\n",
       "        vertical-align: middle;\n",
       "    }\n",
       "\n",
       "    .dataframe tbody tr th {\n",
       "        vertical-align: top;\n",
       "    }\n",
       "\n",
       "    .dataframe thead th {\n",
       "        text-align: right;\n",
       "    }\n",
       "</style>\n",
       "<table border=\"1\" class=\"dataframe\">\n",
       "  <thead>\n",
       "    <tr style=\"text-align: right;\">\n",
       "      <th></th>\n",
       "      <th>Company</th>\n",
       "      <th>Year</th>\n",
       "      <th>EPS</th>\n",
       "      <th>Earnings</th>\n",
       "      <th>Revenue</th>\n",
       "      <th>Marketcap</th>\n",
       "      <th>Total Debts</th>\n",
       "      <th>Net Assets</th>\n",
       "      <th>Total Assets</th>\n",
       "      <th>Cash on hand</th>\n",
       "      <th>Country</th>\n",
       "      <th>Share price</th>\n",
       "      <th>Categories</th>\n",
       "    </tr>\n",
       "  </thead>\n",
       "  <tbody>\n",
       "    <tr>\n",
       "      <th>1243</th>\n",
       "      <td>Thermo Fisher Scientific</td>\n",
       "      <td>2022</td>\n",
       "      <td>17.76</td>\n",
       "      <td>7.83</td>\n",
       "      <td>44.91</td>\n",
       "      <td>215.97</td>\n",
       "      <td>34.48</td>\n",
       "      <td>44.14</td>\n",
       "      <td>97.29</td>\n",
       "      <td>8.52</td>\n",
       "      <td>USA</td>\n",
       "      <td>489.77</td>\n",
       "      <td>⚕️ Diagnostics and Testing, 🧬 Biotech, 🔬 Scien...</td>\n",
       "    </tr>\n",
       "    <tr>\n",
       "      <th>44271</th>\n",
       "      <td>Tata Steel</td>\n",
       "      <td>2004</td>\n",
       "      <td>NaN</td>\n",
       "      <td>NaN</td>\n",
       "      <td>NaN</td>\n",
       "      <td>NaN</td>\n",
       "      <td>NaN</td>\n",
       "      <td>NaN</td>\n",
       "      <td>NaN</td>\n",
       "      <td>NaN</td>\n",
       "      <td>India</td>\n",
       "      <td>1.55</td>\n",
       "      <td>🔩 Steel producers, 🔩 Steel industry</td>\n",
       "    </tr>\n",
       "    <tr>\n",
       "      <th>8863</th>\n",
       "      <td>Kraft Heinz</td>\n",
       "      <td>2015</td>\n",
       "      <td>1.62</td>\n",
       "      <td>2.29</td>\n",
       "      <td>22.11</td>\n",
       "      <td>88.29</td>\n",
       "      <td>25.15</td>\n",
       "      <td>66.23</td>\n",
       "      <td>122.97</td>\n",
       "      <td>4.83</td>\n",
       "      <td>USA</td>\n",
       "      <td>36.23</td>\n",
       "      <td>🍴 Food</td>\n",
       "    </tr>\n",
       "    <tr>\n",
       "      <th>3115</th>\n",
       "      <td>CATL</td>\n",
       "      <td>2013</td>\n",
       "      <td>NaN</td>\n",
       "      <td>NaN</td>\n",
       "      <td>NaN</td>\n",
       "      <td>NaN</td>\n",
       "      <td>NaN</td>\n",
       "      <td>NaN</td>\n",
       "      <td>NaN</td>\n",
       "      <td>NaN</td>\n",
       "      <td>China</td>\n",
       "      <td>22.84</td>\n",
       "      <td>🔋 Electricity, 🔋 Batteries</td>\n",
       "    </tr>\n",
       "    <tr>\n",
       "      <th>58926</th>\n",
       "      <td>MarketAxess</td>\n",
       "      <td>2023</td>\n",
       "      <td>6.61</td>\n",
       "      <td>0.32</td>\n",
       "      <td>0.73</td>\n",
       "      <td>9.91</td>\n",
       "      <td>NaN</td>\n",
       "      <td>NaN</td>\n",
       "      <td>NaN</td>\n",
       "      <td>NaN</td>\n",
       "      <td>USA</td>\n",
       "      <td>261.68</td>\n",
       "      <td>💳 Financial services</td>\n",
       "    </tr>\n",
       "  </tbody>\n",
       "</table>\n",
       "</div>"
      ],
      "text/plain": [
       "                        Company  Year    EPS Earnings Revenue Marketcap  \\\n",
       "1243   Thermo Fisher Scientific  2022  17.76     7.83   44.91    215.97   \n",
       "44271                Tata Steel  2004    NaN      NaN     NaN       NaN   \n",
       "8863                Kraft Heinz  2015   1.62     2.29   22.11     88.29   \n",
       "3115                       CATL  2013    NaN      NaN     NaN       NaN   \n",
       "58926               MarketAxess  2023   6.61     0.32    0.73      9.91   \n",
       "\n",
       "      Total Debts Net Assets Total Assets Cash on hand Country Share price  \\\n",
       "1243        34.48      44.14        97.29         8.52     USA      489.77   \n",
       "44271         NaN        NaN          NaN          NaN   India        1.55   \n",
       "8863        25.15      66.23       122.97         4.83     USA       36.23   \n",
       "3115          NaN        NaN          NaN          NaN   China       22.84   \n",
       "58926         NaN        NaN          NaN          NaN     USA      261.68   \n",
       "\n",
       "                                              Categories  \n",
       "1243   ⚕️ Diagnostics and Testing, 🧬 Biotech, 🔬 Scien...  \n",
       "44271                🔩 Steel producers, 🔩 Steel industry  \n",
       "8863                                              🍴 Food  \n",
       "3115                          🔋 Electricity, 🔋 Batteries  \n",
       "58926                               💳 Financial services  "
      ]
     },
     "execution_count": 907,
     "metadata": {},
     "output_type": "execute_result"
    }
   ],
   "source": [
    "# df = raw_df.copy()\n",
    "\n",
    "cols_to_convert = ['EPS', 'Earnings', 'Revenue', 'Marketcap', 'Total Debts', 'Net Assets', 'Total Assets', 'Cash on hand', 'Share price']\n",
    "\n",
    "conversion_factors = {'M': 1e-3, 'T': 1e3}\n",
    "\n",
    "for col in cols_to_convert:\n",
    "    raw_df[col] = raw_df[col].replace({'\\$': '', ',': ''}, regex=True)\n",
    "    last_char = raw_df[col].str[-1]\n",
    "    \n",
    "    for idx, c in last_char.items():\n",
    "        if c in ['M', 'T']:\n",
    "            raw_df.at[idx, col] = pd.to_numeric(raw_df.at[idx, col][:-1], errors='coerce') * conversion_factors.get(c)\n",
    "        elif c == 'B':\n",
    "            raw_df.at[idx, col] = pd.to_numeric(raw_df.at[idx, col][:-1], errors='coerce')\n",
    "        else:\n",
    "            raw_df.at[idx, col] = pd.to_numeric(raw_df.at[idx, col], errors='coerce')\n",
    "\n",
    "    \n",
    "raw_df.sample(5)"
   ]
  },
  {
   "cell_type": "code",
   "execution_count": 908,
   "metadata": {},
   "outputs": [
    {
     "data": {
      "text/html": [
       "<div>\n",
       "<style scoped>\n",
       "    .dataframe tbody tr th:only-of-type {\n",
       "        vertical-align: middle;\n",
       "    }\n",
       "\n",
       "    .dataframe tbody tr th {\n",
       "        vertical-align: top;\n",
       "    }\n",
       "\n",
       "    .dataframe thead th {\n",
       "        text-align: right;\n",
       "    }\n",
       "</style>\n",
       "<table border=\"1\" class=\"dataframe\">\n",
       "  <thead>\n",
       "    <tr style=\"text-align: right;\">\n",
       "      <th></th>\n",
       "      <th>Company</th>\n",
       "      <th>Year</th>\n",
       "      <th>EPS</th>\n",
       "      <th>Earnings</th>\n",
       "      <th>Revenue</th>\n",
       "      <th>Marketcap</th>\n",
       "      <th>Total Debts</th>\n",
       "      <th>Net Assets</th>\n",
       "      <th>Total Assets</th>\n",
       "      <th>Cash on hand</th>\n",
       "      <th>Country</th>\n",
       "      <th>Share price</th>\n",
       "      <th>Categories</th>\n",
       "    </tr>\n",
       "  </thead>\n",
       "  <tbody>\n",
       "    <tr>\n",
       "      <th>0</th>\n",
       "      <td>Apple</td>\n",
       "      <td>2023</td>\n",
       "      <td>6.16</td>\n",
       "      <td>114.3</td>\n",
       "      <td>383.28</td>\n",
       "      <td>3043.0</td>\n",
       "      <td>111.08</td>\n",
       "      <td>62.14</td>\n",
       "      <td>352.58</td>\n",
       "      <td>61.55</td>\n",
       "      <td>USA</td>\n",
       "      <td>195.71</td>\n",
       "      <td>👨‍💻 Software, 👩‍💻 Tech, 🔌 Electronics, 🇺🇸 Dow ...</td>\n",
       "    </tr>\n",
       "    <tr>\n",
       "      <th>1</th>\n",
       "      <td>Apple</td>\n",
       "      <td>2022</td>\n",
       "      <td>5.92</td>\n",
       "      <td>113.96</td>\n",
       "      <td>387.53</td>\n",
       "      <td>2066.0</td>\n",
       "      <td>120.06</td>\n",
       "      <td>50.67</td>\n",
       "      <td>352.75</td>\n",
       "      <td>48.3</td>\n",
       "      <td>USA</td>\n",
       "      <td>195.71</td>\n",
       "      <td>👨‍💻 Software, 👩‍💻 Tech, 🔌 Electronics, 🇺🇸 Dow ...</td>\n",
       "    </tr>\n",
       "    <tr>\n",
       "      <th>2</th>\n",
       "      <td>Apple</td>\n",
       "      <td>2021</td>\n",
       "      <td>6.08</td>\n",
       "      <td>116.9</td>\n",
       "      <td>378.32</td>\n",
       "      <td>2901.0</td>\n",
       "      <td>124.71</td>\n",
       "      <td>63.09</td>\n",
       "      <td>351.0</td>\n",
       "      <td>62.63</td>\n",
       "      <td>USA</td>\n",
       "      <td>195.71</td>\n",
       "      <td>👨‍💻 Software, 👩‍💻 Tech, 🔌 Electronics, 🇺🇸 Dow ...</td>\n",
       "    </tr>\n",
       "    <tr>\n",
       "      <th>3</th>\n",
       "      <td>Apple</td>\n",
       "      <td>2020</td>\n",
       "      <td>3.74</td>\n",
       "      <td>74.25</td>\n",
       "      <td>294.13</td>\n",
       "      <td>2255.0</td>\n",
       "      <td>112.43</td>\n",
       "      <td>65.33</td>\n",
       "      <td>323.88</td>\n",
       "      <td>90.94</td>\n",
       "      <td>USA</td>\n",
       "      <td>195.71</td>\n",
       "      <td>👨‍💻 Software, 👩‍💻 Tech, 🔌 Electronics, 🇺🇸 Dow ...</td>\n",
       "    </tr>\n",
       "    <tr>\n",
       "      <th>4</th>\n",
       "      <td>Apple</td>\n",
       "      <td>2019</td>\n",
       "      <td>3.19</td>\n",
       "      <td>66.15</td>\n",
       "      <td>267.68</td>\n",
       "      <td>1287.0</td>\n",
       "      <td>108.04</td>\n",
       "      <td>90.48</td>\n",
       "      <td>338.51</td>\n",
       "      <td>100.55</td>\n",
       "      <td>USA</td>\n",
       "      <td>195.71</td>\n",
       "      <td>👨‍💻 Software, 👩‍💻 Tech, 🔌 Electronics, 🇺🇸 Dow ...</td>\n",
       "    </tr>\n",
       "    <tr>\n",
       "      <th>5</th>\n",
       "      <td>Apple</td>\n",
       "      <td>2018</td>\n",
       "      <td>3.07</td>\n",
       "      <td>67.97</td>\n",
       "      <td>261.61</td>\n",
       "      <td>746.07</td>\n",
       "      <td>114.48</td>\n",
       "      <td>107.14</td>\n",
       "      <td>365.72</td>\n",
       "      <td>66.3</td>\n",
       "      <td>USA</td>\n",
       "      <td>195.71</td>\n",
       "      <td>👨‍💻 Software, 👩‍💻 Tech, 🔌 Electronics, 🇺🇸 Dow ...</td>\n",
       "    </tr>\n",
       "    <tr>\n",
       "      <th>6</th>\n",
       "      <td>Apple</td>\n",
       "      <td>2017</td>\n",
       "      <td>2.45</td>\n",
       "      <td>64.25</td>\n",
       "      <td>239.17</td>\n",
       "      <td>860.88</td>\n",
       "      <td>115.68</td>\n",
       "      <td>134.04</td>\n",
       "      <td>375.31</td>\n",
       "      <td>74.18</td>\n",
       "      <td>USA</td>\n",
       "      <td>195.71</td>\n",
       "      <td>👨‍💻 Software, 👩‍💻 Tech, 🔌 Electronics, 🇺🇸 Dow ...</td>\n",
       "    </tr>\n",
       "    <tr>\n",
       "      <th>7</th>\n",
       "      <td>Apple</td>\n",
       "      <td>2016</td>\n",
       "      <td>2.1</td>\n",
       "      <td>59.21</td>\n",
       "      <td>218.11</td>\n",
       "      <td>608.96</td>\n",
       "      <td>87.03</td>\n",
       "      <td>128.24</td>\n",
       "      <td>321.68</td>\n",
       "      <td>67.15</td>\n",
       "      <td>USA</td>\n",
       "      <td>195.71</td>\n",
       "      <td>👨‍💻 Software, 👩‍💻 Tech, 🔌 Electronics, 🇺🇸 Dow ...</td>\n",
       "    </tr>\n",
       "    <tr>\n",
       "      <th>8</th>\n",
       "      <td>Apple</td>\n",
       "      <td>2015</td>\n",
       "      <td>2.37</td>\n",
       "      <td>71.15</td>\n",
       "      <td>234.98</td>\n",
       "      <td>583.61</td>\n",
       "      <td>64.46</td>\n",
       "      <td>119.35</td>\n",
       "      <td>290.47</td>\n",
       "      <td>41.6</td>\n",
       "      <td>USA</td>\n",
       "      <td>195.71</td>\n",
       "      <td>👨‍💻 Software, 👩‍💻 Tech, 🔌 Electronics, 🇺🇸 Dow ...</td>\n",
       "    </tr>\n",
       "    <tr>\n",
       "      <th>9</th>\n",
       "      <td>Apple</td>\n",
       "      <td>2014</td>\n",
       "      <td>1.87</td>\n",
       "      <td>59.28</td>\n",
       "      <td>199.8</td>\n",
       "      <td>643.12</td>\n",
       "      <td>35.29</td>\n",
       "      <td>111.54</td>\n",
       "      <td>231.83</td>\n",
       "      <td>25.07</td>\n",
       "      <td>USA</td>\n",
       "      <td>195.71</td>\n",
       "      <td>👨‍💻 Software, 👩‍💻 Tech, 🔌 Electronics, 🇺🇸 Dow ...</td>\n",
       "    </tr>\n",
       "    <tr>\n",
       "      <th>10</th>\n",
       "      <td>Apple</td>\n",
       "      <td>2013</td>\n",
       "      <td>1.45</td>\n",
       "      <td>49.25</td>\n",
       "      <td>173.99</td>\n",
       "      <td>500.74</td>\n",
       "      <td>16.96</td>\n",
       "      <td>123.54</td>\n",
       "      <td>207.0</td>\n",
       "      <td>40.54</td>\n",
       "      <td>USA</td>\n",
       "      <td>195.71</td>\n",
       "      <td>👨‍💻 Software, 👩‍💻 Tech, 🔌 Electronics, 🇺🇸 Dow ...</td>\n",
       "    </tr>\n",
       "    <tr>\n",
       "      <th>11</th>\n",
       "      <td>Apple</td>\n",
       "      <td>2012</td>\n",
       "      <td>1.59</td>\n",
       "      <td>55.11</td>\n",
       "      <td>164.68</td>\n",
       "      <td>499.69</td>\n",
       "      <td>NaN</td>\n",
       "      <td>118.21</td>\n",
       "      <td>176.06</td>\n",
       "      <td>29.12</td>\n",
       "      <td>USA</td>\n",
       "      <td>195.71</td>\n",
       "      <td>👨‍💻 Software, 👩‍💻 Tech, 🔌 Electronics, 🇺🇸 Dow ...</td>\n",
       "    </tr>\n",
       "    <tr>\n",
       "      <th>12</th>\n",
       "      <td>Apple</td>\n",
       "      <td>2011</td>\n",
       "      <td>1.27</td>\n",
       "      <td>43.3</td>\n",
       "      <td>127.84</td>\n",
       "      <td>377.51</td>\n",
       "      <td>NaN</td>\n",
       "      <td>76.61</td>\n",
       "      <td>116.37</td>\n",
       "      <td>25.95</td>\n",
       "      <td>USA</td>\n",
       "      <td>195.71</td>\n",
       "      <td>👨‍💻 Software, 👩‍💻 Tech, 🔌 Electronics, 🇺🇸 Dow ...</td>\n",
       "    </tr>\n",
       "    <tr>\n",
       "      <th>13</th>\n",
       "      <td>Apple</td>\n",
       "      <td>2010</td>\n",
       "      <td>0.65</td>\n",
       "      <td>21.48</td>\n",
       "      <td>76.28</td>\n",
       "      <td>297.09</td>\n",
       "      <td>NaN</td>\n",
       "      <td>47.79</td>\n",
       "      <td>75.18</td>\n",
       "      <td>25.62</td>\n",
       "      <td>USA</td>\n",
       "      <td>195.71</td>\n",
       "      <td>👨‍💻 Software, 👩‍💻 Tech, 🔌 Electronics, 🇺🇸 Dow ...</td>\n",
       "    </tr>\n",
       "    <tr>\n",
       "      <th>14</th>\n",
       "      <td>Apple</td>\n",
       "      <td>2009</td>\n",
       "      <td>0.31</td>\n",
       "      <td>10.25</td>\n",
       "      <td>42.05</td>\n",
       "      <td>190.98</td>\n",
       "      <td>NaN</td>\n",
       "      <td>27.83</td>\n",
       "      <td>53.85</td>\n",
       "      <td>23.46</td>\n",
       "      <td>USA</td>\n",
       "      <td>195.71</td>\n",
       "      <td>👨‍💻 Software, 👩‍💻 Tech, 🔌 Electronics, 🇺🇸 Dow ...</td>\n",
       "    </tr>\n",
       "    <tr>\n",
       "      <th>15</th>\n",
       "      <td>Apple</td>\n",
       "      <td>2008</td>\n",
       "      <td>0.25</td>\n",
       "      <td>6.27</td>\n",
       "      <td>33.03</td>\n",
       "      <td>75.99</td>\n",
       "      <td>NaN</td>\n",
       "      <td>21.03</td>\n",
       "      <td>39.57</td>\n",
       "      <td>24.49</td>\n",
       "      <td>USA</td>\n",
       "      <td>195.71</td>\n",
       "      <td>👨‍💻 Software, 👩‍💻 Tech, 🔌 Electronics, 🇺🇸 Dow ...</td>\n",
       "    </tr>\n",
       "    <tr>\n",
       "      <th>16</th>\n",
       "      <td>Apple</td>\n",
       "      <td>2007</td>\n",
       "      <td>0.17</td>\n",
       "      <td>5.21</td>\n",
       "      <td>26.49</td>\n",
       "      <td>174.03</td>\n",
       "      <td>NaN</td>\n",
       "      <td>14.53</td>\n",
       "      <td>25.34</td>\n",
       "      <td>15.38</td>\n",
       "      <td>USA</td>\n",
       "      <td>195.71</td>\n",
       "      <td>👨‍💻 Software, 👩‍💻 Tech, 🔌 Electronics, 🇺🇸 Dow ...</td>\n",
       "    </tr>\n",
       "    <tr>\n",
       "      <th>17</th>\n",
       "      <td>Apple</td>\n",
       "      <td>2006</td>\n",
       "      <td>0.1</td>\n",
       "      <td>3.39</td>\n",
       "      <td>20.68</td>\n",
       "      <td>72.98</td>\n",
       "      <td>NaN</td>\n",
       "      <td>9.98</td>\n",
       "      <td>17.2</td>\n",
       "      <td>10.11</td>\n",
       "      <td>USA</td>\n",
       "      <td>195.71</td>\n",
       "      <td>👨‍💻 Software, 👩‍💻 Tech, 🔌 Electronics, 🇺🇸 Dow ...</td>\n",
       "    </tr>\n",
       "    <tr>\n",
       "      <th>18</th>\n",
       "      <td>Apple</td>\n",
       "      <td>2005</td>\n",
       "      <td>0.06964</td>\n",
       "      <td>1.99</td>\n",
       "      <td>16.19</td>\n",
       "      <td>60.79</td>\n",
       "      <td>NaN</td>\n",
       "      <td>7.46</td>\n",
       "      <td>11.55</td>\n",
       "      <td>8.26</td>\n",
       "      <td>USA</td>\n",
       "      <td>195.71</td>\n",
       "      <td>👨‍💻 Software, 👩‍💻 Tech, 🔌 Electronics, 🇺🇸 Dow ...</td>\n",
       "    </tr>\n",
       "    <tr>\n",
       "      <th>19</th>\n",
       "      <td>Apple</td>\n",
       "      <td>2004</td>\n",
       "      <td>0.02286</td>\n",
       "      <td>0.72</td>\n",
       "      <td>9.76</td>\n",
       "      <td>26.05</td>\n",
       "      <td>NaN</td>\n",
       "      <td>5.07</td>\n",
       "      <td>8.05</td>\n",
       "      <td>5.46</td>\n",
       "      <td>USA</td>\n",
       "      <td>195.71</td>\n",
       "      <td>👨‍💻 Software, 👩‍💻 Tech, 🔌 Electronics, 🇺🇸 Dow ...</td>\n",
       "    </tr>\n",
       "    <tr>\n",
       "      <th>20</th>\n",
       "      <td>Apple</td>\n",
       "      <td>2003</td>\n",
       "      <td>0.006964</td>\n",
       "      <td>0.19</td>\n",
       "      <td>6.74</td>\n",
       "      <td>7.88</td>\n",
       "      <td>0.3</td>\n",
       "      <td>4.22</td>\n",
       "      <td>6.81</td>\n",
       "      <td>4.56</td>\n",
       "      <td>USA</td>\n",
       "      <td>195.71</td>\n",
       "      <td>👨‍💻 Software, 👩‍💻 Tech, 🔌 Electronics, 🇺🇸 Dow ...</td>\n",
       "    </tr>\n",
       "    <tr>\n",
       "      <th>21</th>\n",
       "      <td>Apple</td>\n",
       "      <td>2002</td>\n",
       "      <td>0.000893</td>\n",
       "      <td>0.035</td>\n",
       "      <td>5.83</td>\n",
       "      <td>5.16</td>\n",
       "      <td>0.31</td>\n",
       "      <td>4.09</td>\n",
       "      <td>6.29</td>\n",
       "      <td>4.33</td>\n",
       "      <td>USA</td>\n",
       "      <td>195.71</td>\n",
       "      <td>👨‍💻 Software, 👩‍💻 Tech, 🔌 Electronics, 🇺🇸 Dow ...</td>\n",
       "    </tr>\n",
       "    <tr>\n",
       "      <th>22</th>\n",
       "      <td>Apple</td>\n",
       "      <td>2001</td>\n",
       "      <td>0.01054</td>\n",
       "      <td>0.23</td>\n",
       "      <td>5.73</td>\n",
       "      <td>7.71</td>\n",
       "      <td>0.31</td>\n",
       "      <td>3.92</td>\n",
       "      <td>6.02</td>\n",
       "      <td>4.33</td>\n",
       "      <td>USA</td>\n",
       "      <td>195.71</td>\n",
       "      <td>👨‍💻 Software, 👩‍💻 Tech, 🔌 Electronics, 🇺🇸 Dow ...</td>\n",
       "    </tr>\n",
       "  </tbody>\n",
       "</table>\n",
       "</div>"
      ],
      "text/plain": [
       "   Company  Year       EPS Earnings Revenue Marketcap Total Debts Net Assets  \\\n",
       "0    Apple  2023      6.16    114.3  383.28    3043.0      111.08      62.14   \n",
       "1    Apple  2022      5.92   113.96  387.53    2066.0      120.06      50.67   \n",
       "2    Apple  2021      6.08    116.9  378.32    2901.0      124.71      63.09   \n",
       "3    Apple  2020      3.74    74.25  294.13    2255.0      112.43      65.33   \n",
       "4    Apple  2019      3.19    66.15  267.68    1287.0      108.04      90.48   \n",
       "5    Apple  2018      3.07    67.97  261.61    746.07      114.48     107.14   \n",
       "6    Apple  2017      2.45    64.25  239.17    860.88      115.68     134.04   \n",
       "7    Apple  2016       2.1    59.21  218.11    608.96       87.03     128.24   \n",
       "8    Apple  2015      2.37    71.15  234.98    583.61       64.46     119.35   \n",
       "9    Apple  2014      1.87    59.28   199.8    643.12       35.29     111.54   \n",
       "10   Apple  2013      1.45    49.25  173.99    500.74       16.96     123.54   \n",
       "11   Apple  2012      1.59    55.11  164.68    499.69         NaN     118.21   \n",
       "12   Apple  2011      1.27     43.3  127.84    377.51         NaN      76.61   \n",
       "13   Apple  2010      0.65    21.48   76.28    297.09         NaN      47.79   \n",
       "14   Apple  2009      0.31    10.25   42.05    190.98         NaN      27.83   \n",
       "15   Apple  2008      0.25     6.27   33.03     75.99         NaN      21.03   \n",
       "16   Apple  2007      0.17     5.21   26.49    174.03         NaN      14.53   \n",
       "17   Apple  2006       0.1     3.39   20.68     72.98         NaN       9.98   \n",
       "18   Apple  2005   0.06964     1.99   16.19     60.79         NaN       7.46   \n",
       "19   Apple  2004   0.02286     0.72    9.76     26.05         NaN       5.07   \n",
       "20   Apple  2003  0.006964     0.19    6.74      7.88         0.3       4.22   \n",
       "21   Apple  2002  0.000893    0.035    5.83      5.16        0.31       4.09   \n",
       "22   Apple  2001   0.01054     0.23    5.73      7.71        0.31       3.92   \n",
       "\n",
       "   Total Assets Cash on hand Country Share price  \\\n",
       "0        352.58        61.55     USA      195.71   \n",
       "1        352.75         48.3     USA      195.71   \n",
       "2         351.0        62.63     USA      195.71   \n",
       "3        323.88        90.94     USA      195.71   \n",
       "4        338.51       100.55     USA      195.71   \n",
       "5        365.72         66.3     USA      195.71   \n",
       "6        375.31        74.18     USA      195.71   \n",
       "7        321.68        67.15     USA      195.71   \n",
       "8        290.47         41.6     USA      195.71   \n",
       "9        231.83        25.07     USA      195.71   \n",
       "10        207.0        40.54     USA      195.71   \n",
       "11       176.06        29.12     USA      195.71   \n",
       "12       116.37        25.95     USA      195.71   \n",
       "13        75.18        25.62     USA      195.71   \n",
       "14        53.85        23.46     USA      195.71   \n",
       "15        39.57        24.49     USA      195.71   \n",
       "16        25.34        15.38     USA      195.71   \n",
       "17         17.2        10.11     USA      195.71   \n",
       "18        11.55         8.26     USA      195.71   \n",
       "19         8.05         5.46     USA      195.71   \n",
       "20         6.81         4.56     USA      195.71   \n",
       "21         6.29         4.33     USA      195.71   \n",
       "22         6.02         4.33     USA      195.71   \n",
       "\n",
       "                                           Categories  \n",
       "0   👨‍💻 Software, 👩‍💻 Tech, 🔌 Electronics, 🇺🇸 Dow ...  \n",
       "1   👨‍💻 Software, 👩‍💻 Tech, 🔌 Electronics, 🇺🇸 Dow ...  \n",
       "2   👨‍💻 Software, 👩‍💻 Tech, 🔌 Electronics, 🇺🇸 Dow ...  \n",
       "3   👨‍💻 Software, 👩‍💻 Tech, 🔌 Electronics, 🇺🇸 Dow ...  \n",
       "4   👨‍💻 Software, 👩‍💻 Tech, 🔌 Electronics, 🇺🇸 Dow ...  \n",
       "5   👨‍💻 Software, 👩‍💻 Tech, 🔌 Electronics, 🇺🇸 Dow ...  \n",
       "6   👨‍💻 Software, 👩‍💻 Tech, 🔌 Electronics, 🇺🇸 Dow ...  \n",
       "7   👨‍💻 Software, 👩‍💻 Tech, 🔌 Electronics, 🇺🇸 Dow ...  \n",
       "8   👨‍💻 Software, 👩‍💻 Tech, 🔌 Electronics, 🇺🇸 Dow ...  \n",
       "9   👨‍💻 Software, 👩‍💻 Tech, 🔌 Electronics, 🇺🇸 Dow ...  \n",
       "10  👨‍💻 Software, 👩‍💻 Tech, 🔌 Electronics, 🇺🇸 Dow ...  \n",
       "11  👨‍💻 Software, 👩‍💻 Tech, 🔌 Electronics, 🇺🇸 Dow ...  \n",
       "12  👨‍💻 Software, 👩‍💻 Tech, 🔌 Electronics, 🇺🇸 Dow ...  \n",
       "13  👨‍💻 Software, 👩‍💻 Tech, 🔌 Electronics, 🇺🇸 Dow ...  \n",
       "14  👨‍💻 Software, 👩‍💻 Tech, 🔌 Electronics, 🇺🇸 Dow ...  \n",
       "15  👨‍💻 Software, 👩‍💻 Tech, 🔌 Electronics, 🇺🇸 Dow ...  \n",
       "16  👨‍💻 Software, 👩‍💻 Tech, 🔌 Electronics, 🇺🇸 Dow ...  \n",
       "17  👨‍💻 Software, 👩‍💻 Tech, 🔌 Electronics, 🇺🇸 Dow ...  \n",
       "18  👨‍💻 Software, 👩‍💻 Tech, 🔌 Electronics, 🇺🇸 Dow ...  \n",
       "19  👨‍💻 Software, 👩‍💻 Tech, 🔌 Electronics, 🇺🇸 Dow ...  \n",
       "20  👨‍💻 Software, 👩‍💻 Tech, 🔌 Electronics, 🇺🇸 Dow ...  \n",
       "21  👨‍💻 Software, 👩‍💻 Tech, 🔌 Electronics, 🇺🇸 Dow ...  \n",
       "22  👨‍💻 Software, 👩‍💻 Tech, 🔌 Electronics, 🇺🇸 Dow ...  "
      ]
     },
     "execution_count": 908,
     "metadata": {},
     "output_type": "execute_result"
    }
   ],
   "source": [
    "raw_df[raw_df['Company']== 'Apple']"
   ]
  },
  {
   "cell_type": "markdown",
   "metadata": {},
   "source": [
    "Ta cũng cần thay đổi lại tên các cột `EPS`, `Earnings`, `Revenue`, `Marketcap`, `Total Debts`, `Net Assets`, `Total Assets`, `Cash on hand`, `Share price` để dễ thấy ý nghĩa của cột."
   ]
  },
  {
   "cell_type": "code",
   "execution_count": 909,
   "metadata": {},
   "outputs": [],
   "source": [
    "new_column_names = {\n",
    "    'EPS': 'EPS ($)',\n",
    "    'Earnings': 'Earnings ($B)',\n",
    "    'Revenue': 'Revenue ($B)',\n",
    "    'Marketcap': 'Marketcap ($B)',\n",
    "    'Total Debts': 'Total Debts ($B)',\n",
    "    'Net Assets': 'Net Assets ($B)',\n",
    "    'Total Assets': 'Total Assets ($B)',\n",
    "    'Cash on hand': 'Cash on hand ($B)',\n",
    "    'Share price': 'Share price ($)'\n",
    "}\n",
    "\n",
    "# Đổi tên các cột\n",
    "raw_df = raw_df.rename(columns=new_column_names)"
   ]
  },
  {
   "cell_type": "markdown",
   "metadata": {},
   "source": [
    "Bây giờ, cột `Categories` chứa các icon không cần thiết và gây nhiều khó khăn cho nên ta sẽ xoá các icon này"
   ]
  },
  {
   "cell_type": "markdown",
   "metadata": {},
   "source": [
    "Hàm loại bỏ emoji"
   ]
  },
  {
   "cell_type": "code",
   "execution_count": 910,
   "metadata": {},
   "outputs": [],
   "source": [
    "def remove_emojis(input_string):\n",
    "    # Create a regex pattern to match a broader range of special characters\n",
    "    special_char_pattern = re.compile(\"[^\\w\\s,]\\s?\", flags=re.UNICODE)\n",
    "\n",
    "    # Use re.sub to replace the matched characters with an empty string\n",
    "    result_string = special_char_pattern.sub('', input_string)\n",
    "\n",
    "    return result_string"
   ]
  },
  {
   "cell_type": "markdown",
   "metadata": {},
   "source": [
    "Xoá các icon trong `Categories`"
   ]
  },
  {
   "cell_type": "code",
   "execution_count": 911,
   "metadata": {},
   "outputs": [],
   "source": [
    "raw_df[\"Categories\"] = raw_df[\"Categories\"].apply(lambda x: x if pd.isna(x) else remove_emojis(x))"
   ]
  },
  {
   "cell_type": "code",
   "execution_count": 912,
   "metadata": {},
   "outputs": [
    {
     "data": {
      "text/plain": [
       "22    Software, Tech, Electronics, Dow jones, Tech H...\n",
       "23           Software, Tech, Video games, Dow jones, AI\n",
       "Name: Categories, dtype: object"
      ]
     },
     "execution_count": 912,
     "metadata": {},
     "output_type": "execute_result"
    }
   ],
   "source": [
    "raw_df[\"Categories\"][22:24]"
   ]
  },
  {
   "cell_type": "markdown",
   "metadata": {},
   "source": [
    "Đã xoá thành công emoji, tuy nhiên vẫn còn các khoảng trắng dư thừa"
   ]
  },
  {
   "cell_type": "markdown",
   "metadata": {},
   "source": [
    "Viết hàm chuẩn hoá để xoá bỏ các khoảng trắng dư thừa"
   ]
  },
  {
   "cell_type": "code",
   "execution_count": 913,
   "metadata": {},
   "outputs": [],
   "source": [
    "def normalize(x): # x is a row\n",
    "    if pd.isna(x):\n",
    "        return x\n",
    "    else:\n",
    "        x = x.strip()\n",
    "        x = x.split(\", \")\n",
    "        x = [cate.strip() for cate in  x]\n",
    "        x = \", \".join(x)\n",
    "        return x\n",
    "\n",
    "\n",
    "\n",
    "raw_df[\"Categories\"] = raw_df[\"Categories\"].apply(normalize)"
   ]
  },
  {
   "cell_type": "markdown",
   "metadata": {},
   "source": [
    "## Kiểm tra missing-values của các cột"
   ]
  },
  {
   "cell_type": "code",
   "execution_count": 914,
   "metadata": {},
   "outputs": [
    {
     "name": "stdout",
     "output_type": "stream",
     "text": [
      "<class 'pandas.core.frame.DataFrame'>\n",
      "Index: 45954 entries, 0 to 69459\n",
      "Data columns (total 13 columns):\n",
      " #   Column             Non-Null Count  Dtype \n",
      "---  ------             --------------  ----- \n",
      " 0   Company            45954 non-null  object\n",
      " 1   Year               45954 non-null  object\n",
      " 2   EPS ($)            32237 non-null  object\n",
      " 3   Earnings ($B)      32371 non-null  object\n",
      " 4   Revenue ($B)       32503 non-null  object\n",
      " 5   Marketcap ($B)     34364 non-null  object\n",
      " 6   Total Debts ($B)   34199 non-null  object\n",
      " 7   Net Assets ($B)    36745 non-null  object\n",
      " 8   Total Assets ($B)  36824 non-null  object\n",
      " 9   Cash on hand ($B)  36043 non-null  object\n",
      " 10  Country            45954 non-null  object\n",
      " 11  Share price ($)    45954 non-null  object\n",
      " 12  Categories         42642 non-null  object\n",
      "dtypes: object(13)\n",
      "memory usage: 5.9+ MB\n"
     ]
    }
   ],
   "source": [
    "raw_df.info()"
   ]
  },
  {
   "cell_type": "markdown",
   "metadata": {},
   "source": [
    "Tính tỉ lệ missing-values của các cột"
   ]
  },
  {
   "cell_type": "code",
   "execution_count": 915,
   "metadata": {},
   "outputs": [
    {
     "data": {
      "text/plain": [
       "Company              1.000000\n",
       "Year                 1.000000\n",
       "EPS ($)              0.701506\n",
       "Earnings ($B)        0.704422\n",
       "Revenue ($B)         0.707294\n",
       "Marketcap ($B)       0.747791\n",
       "Total Debts ($B)     0.744201\n",
       "Net Assets ($B)      0.799604\n",
       "Total Assets ($B)    0.801323\n",
       "Cash on hand ($B)    0.784328\n",
       "Country              1.000000\n",
       "Share price ($)      1.000000\n",
       "Categories           0.927928\n",
       "dtype: float64"
      ]
     },
     "execution_count": 915,
     "metadata": {},
     "output_type": "execute_result"
    }
   ],
   "source": [
    "raw_df.apply(lambda col: 1 -col.isna().sum() / len(col))"
   ]
  },
  {
   "cell_type": "markdown",
   "metadata": {},
   "source": [
    "- Nhìn chung, có nhiều cột có missing-values khá nhiều\n",
    "\n",
    "- Đối với các observation thiếu đi `Categories` thì ta sẽ drop. Lí do: công ty không có thông tin về danh mục thì khó cho việc phân tích.\n",
    "\n",
    "- Đối với các cột còn lại (đa số là `Numerical`), ta sẽ thay bằng giá trị `median` tương ứng dựa theo công ty đó."
   ]
  },
  {
   "cell_type": "markdown",
   "metadata": {},
   "source": [
    "## Xử lý missing-values cho các cột `Categorical`"
   ]
  },
  {
   "cell_type": "markdown",
   "metadata": {},
   "source": [
    "Tiến hành bỏ các dòng missing-values ở `Categories`"
   ]
  },
  {
   "cell_type": "code",
   "execution_count": 916,
   "metadata": {},
   "outputs": [],
   "source": [
    "raw_df.dropna(subset=[\"Categories\"], inplace=True)\n"
   ]
  },
  {
   "cell_type": "markdown",
   "metadata": {},
   "source": [
    "Kiểm tra lại số lượng missing-values ở cột `Categories`"
   ]
  },
  {
   "cell_type": "code",
   "execution_count": 917,
   "metadata": {},
   "outputs": [
    {
     "name": "stdout",
     "output_type": "stream",
     "text": [
      "Số lượng missing-values: 0\n"
     ]
    }
   ],
   "source": [
    "print(f'Số lượng missing-values: {raw_df[\"Categories\"].isna().sum()}')"
   ]
  },
  {
   "cell_type": "markdown",
   "metadata": {},
   "source": [
    "Xem lại shape"
   ]
  },
  {
   "cell_type": "code",
   "execution_count": 918,
   "metadata": {},
   "outputs": [
    {
     "data": {
      "text/plain": [
       "(42642, 13)"
      ]
     },
     "execution_count": 918,
     "metadata": {},
     "output_type": "execute_result"
    }
   ],
   "source": [
    "raw_df.shape"
   ]
  },
  {
   "cell_type": "markdown",
   "metadata": {},
   "source": [
    "## Xử lý missing values cho các cột `Numerical`"
   ]
  },
  {
   "cell_type": "code",
   "execution_count": 919,
   "metadata": {},
   "outputs": [
    {
     "name": "stdout",
     "output_type": "stream",
     "text": [
      "<class 'pandas.core.frame.DataFrame'>\n",
      "Index: 42642 entries, 0 to 69459\n",
      "Data columns (total 13 columns):\n",
      " #   Column             Non-Null Count  Dtype \n",
      "---  ------             --------------  ----- \n",
      " 0   Company            42642 non-null  object\n",
      " 1   Year               42642 non-null  object\n",
      " 2   EPS ($)            29863 non-null  object\n",
      " 3   Earnings ($B)      30014 non-null  object\n",
      " 4   Revenue ($B)       30136 non-null  object\n",
      " 5   Marketcap ($B)     31765 non-null  object\n",
      " 6   Total Debts ($B)   31705 non-null  object\n",
      " 7   Net Assets ($B)    34028 non-null  object\n",
      " 8   Total Assets ($B)  34105 non-null  object\n",
      " 9   Cash on hand ($B)  33375 non-null  object\n",
      " 10  Country            42642 non-null  object\n",
      " 11  Share price ($)    42642 non-null  object\n",
      " 12  Categories         42642 non-null  object\n",
      "dtypes: object(13)\n",
      "memory usage: 4.6+ MB\n"
     ]
    }
   ],
   "source": [
    "raw_df.info()"
   ]
  },
  {
   "cell_type": "markdown",
   "metadata": {},
   "source": [
    "Trong các cột `Numerical`, cột tồn tại missing values bao gồm:\n",
    "\n",
    "- `EPS ($)`           \n",
    "\n",
    "- `Earnings ($B)`       \n",
    "\n",
    "- `Revenue ($B)`      \n",
    "\n",
    "- `Marketcap ($B)`     \n",
    "\n",
    "- `Total Debts ($B)`   \n",
    "\n",
    "- `Net Assets ($B)`    \n",
    "\n",
    "- `Total Assets ($B)`  \n",
    "\n",
    "- `Cash on hand ($B)` \n"
   ]
  },
  {
   "cell_type": "code",
   "execution_count": 920,
   "metadata": {},
   "outputs": [
    {
     "data": {
      "text/plain": [
       "['EPS ($)',\n",
       " 'Earnings ($B)',\n",
       " 'Revenue ($B)',\n",
       " 'Marketcap ($B)',\n",
       " 'Total Debts ($B)',\n",
       " 'Net Assets ($B)',\n",
       " 'Total Assets ($B)',\n",
       " 'Cash on hand ($B)']"
      ]
     },
     "execution_count": 920,
     "metadata": {},
     "output_type": "execute_result"
    }
   ],
   "source": [
    "num_missing_cols = [\"EPS ($)\", \"Earnings ($B)\", \"Revenue ($B)\", \"Marketcap ($B)\", \"Total Debts ($B)\", \"Net Assets ($B)\", \"Total Assets ($B)\", \"Cash on hand ($B)\"]\n",
    "num_missing_cols"
   ]
  },
  {
   "cell_type": "markdown",
   "metadata": {},
   "source": [
    "Phương án xử lý missing-value bằng cách replace bằng `median` hay `mean` theo cột có vẻ không hợp lý bởi vì có nhiều công ty và quy mô cũng khác nhau. Do đó nếu thay như vậy thì giảm mức độ chính xác đi rất nhiều.\n",
    "\n",
    "Một phương án có thể đó là thay bằng giá trị `median` dựa trên từng công ty. \n",
    "\n",
    "Tuy nhiên, có trường hợp một `company` có một cột toàn `nan`. Do đó, ta sẽ drop luôn những `company` thuộc trường hợp này."
   ]
  },
  {
   "cell_type": "markdown",
   "metadata": {},
   "source": [
    "### Tạo DataFrame mới lưu số lượng missing-values của mỗi cột theo từng company"
   ]
  },
  {
   "cell_type": "code",
   "execution_count": 921,
   "metadata": {},
   "outputs": [
    {
     "data": {
      "text/html": [
       "<div>\n",
       "<style scoped>\n",
       "    .dataframe tbody tr th:only-of-type {\n",
       "        vertical-align: middle;\n",
       "    }\n",
       "\n",
       "    .dataframe tbody tr th {\n",
       "        vertical-align: top;\n",
       "    }\n",
       "\n",
       "    .dataframe thead th {\n",
       "        text-align: right;\n",
       "    }\n",
       "</style>\n",
       "<table border=\"1\" class=\"dataframe\">\n",
       "  <thead>\n",
       "    <tr style=\"text-align: right;\">\n",
       "      <th></th>\n",
       "      <th>Company</th>\n",
       "      <th>EPS ($)</th>\n",
       "      <th>Earnings ($B)</th>\n",
       "      <th>Revenue ($B)</th>\n",
       "      <th>Marketcap ($B)</th>\n",
       "      <th>Total Debts ($B)</th>\n",
       "      <th>Net Assets ($B)</th>\n",
       "      <th>Total Assets ($B)</th>\n",
       "      <th>Cash on hand ($B)</th>\n",
       "    </tr>\n",
       "  </thead>\n",
       "  <tbody>\n",
       "    <tr>\n",
       "      <th>0</th>\n",
       "      <td>(HLBank) Hong Leong Bank</td>\n",
       "      <td>11</td>\n",
       "      <td>11</td>\n",
       "      <td>11</td>\n",
       "      <td>5</td>\n",
       "      <td>5</td>\n",
       "      <td>4</td>\n",
       "      <td>4</td>\n",
       "      <td>5</td>\n",
       "    </tr>\n",
       "    <tr>\n",
       "      <th>1</th>\n",
       "      <td>37 Interactive Entertainment</td>\n",
       "      <td>9</td>\n",
       "      <td>9</td>\n",
       "      <td>9</td>\n",
       "      <td>19</td>\n",
       "      <td>10</td>\n",
       "      <td>7</td>\n",
       "      <td>7</td>\n",
       "      <td>7</td>\n",
       "    </tr>\n",
       "    <tr>\n",
       "      <th>2</th>\n",
       "      <td>3M</td>\n",
       "      <td>0</td>\n",
       "      <td>0</td>\n",
       "      <td>0</td>\n",
       "      <td>0</td>\n",
       "      <td>1</td>\n",
       "      <td>1</td>\n",
       "      <td>1</td>\n",
       "      <td>1</td>\n",
       "    </tr>\n",
       "    <tr>\n",
       "      <th>3</th>\n",
       "      <td>3i Group</td>\n",
       "      <td>4</td>\n",
       "      <td>3</td>\n",
       "      <td>3</td>\n",
       "      <td>6</td>\n",
       "      <td>4</td>\n",
       "      <td>3</td>\n",
       "      <td>3</td>\n",
       "      <td>5</td>\n",
       "    </tr>\n",
       "    <tr>\n",
       "      <th>4</th>\n",
       "      <td>7-Eleven</td>\n",
       "      <td>9</td>\n",
       "      <td>9</td>\n",
       "      <td>9</td>\n",
       "      <td>5</td>\n",
       "      <td>5</td>\n",
       "      <td>5</td>\n",
       "      <td>5</td>\n",
       "      <td>5</td>\n",
       "    </tr>\n",
       "    <tr>\n",
       "      <th>...</th>\n",
       "      <td>...</td>\n",
       "      <td>...</td>\n",
       "      <td>...</td>\n",
       "      <td>...</td>\n",
       "      <td>...</td>\n",
       "      <td>...</td>\n",
       "      <td>...</td>\n",
       "      <td>...</td>\n",
       "      <td>...</td>\n",
       "    </tr>\n",
       "    <tr>\n",
       "      <th>1849</th>\n",
       "      <td>monday.com</td>\n",
       "      <td>19</td>\n",
       "      <td>19</td>\n",
       "      <td>19</td>\n",
       "      <td>20</td>\n",
       "      <td>19</td>\n",
       "      <td>19</td>\n",
       "      <td>19</td>\n",
       "      <td>19</td>\n",
       "    </tr>\n",
       "    <tr>\n",
       "      <th>1850</th>\n",
       "      <td>nVent Electric</td>\n",
       "      <td>16</td>\n",
       "      <td>16</td>\n",
       "      <td>16</td>\n",
       "      <td>17</td>\n",
       "      <td>18</td>\n",
       "      <td>16</td>\n",
       "      <td>16</td>\n",
       "      <td>16</td>\n",
       "    </tr>\n",
       "    <tr>\n",
       "      <th>1851</th>\n",
       "      <td>Ørsted</td>\n",
       "      <td>14</td>\n",
       "      <td>14</td>\n",
       "      <td>14</td>\n",
       "      <td>16</td>\n",
       "      <td>13</td>\n",
       "      <td>13</td>\n",
       "      <td>13</td>\n",
       "      <td>13</td>\n",
       "    </tr>\n",
       "    <tr>\n",
       "      <th>1852</th>\n",
       "      <td>ČEZ Group</td>\n",
       "      <td>4</td>\n",
       "      <td>10</td>\n",
       "      <td>10</td>\n",
       "      <td>5</td>\n",
       "      <td>5</td>\n",
       "      <td>5</td>\n",
       "      <td>5</td>\n",
       "      <td>5</td>\n",
       "    </tr>\n",
       "    <tr>\n",
       "      <th>1853</th>\n",
       "      <td>“K” Line</td>\n",
       "      <td>8</td>\n",
       "      <td>8</td>\n",
       "      <td>8</td>\n",
       "      <td>0</td>\n",
       "      <td>0</td>\n",
       "      <td>0</td>\n",
       "      <td>0</td>\n",
       "      <td>0</td>\n",
       "    </tr>\n",
       "  </tbody>\n",
       "</table>\n",
       "<p>1854 rows × 9 columns</p>\n",
       "</div>"
      ],
      "text/plain": [
       "                           Company  EPS ($)  Earnings ($B)  Revenue ($B)  \\\n",
       "0         (HLBank) Hong Leong Bank       11             11            11   \n",
       "1     37 Interactive Entertainment        9              9             9   \n",
       "2                               3M        0              0             0   \n",
       "3                         3i Group        4              3             3   \n",
       "4                         7-Eleven        9              9             9   \n",
       "...                            ...      ...            ...           ...   \n",
       "1849                    monday.com       19             19            19   \n",
       "1850                nVent Electric       16             16            16   \n",
       "1851                        Ørsted       14             14            14   \n",
       "1852                     ČEZ Group        4             10            10   \n",
       "1853                      “K” Line        8              8             8   \n",
       "\n",
       "      Marketcap ($B)  Total Debts ($B)  Net Assets ($B)  Total Assets ($B)  \\\n",
       "0                  5                 5                4                  4   \n",
       "1                 19                10                7                  7   \n",
       "2                  0                 1                1                  1   \n",
       "3                  6                 4                3                  3   \n",
       "4                  5                 5                5                  5   \n",
       "...              ...               ...              ...                ...   \n",
       "1849              20                19               19                 19   \n",
       "1850              17                18               16                 16   \n",
       "1851              16                13               13                 13   \n",
       "1852               5                 5                5                  5   \n",
       "1853               0                 0                0                  0   \n",
       "\n",
       "      Cash on hand ($B)  \n",
       "0                     5  \n",
       "1                     7  \n",
       "2                     1  \n",
       "3                     5  \n",
       "4                     5  \n",
       "...                 ...  \n",
       "1849                 19  \n",
       "1850                 16  \n",
       "1851                 13  \n",
       "1852                  5  \n",
       "1853                  0  \n",
       "\n",
       "[1854 rows x 9 columns]"
      ]
     },
     "execution_count": 921,
     "metadata": {},
     "output_type": "execute_result"
    }
   ],
   "source": [
    "missing_counts_df = raw_df.groupby(\"Company\")[num_missing_cols].apply(lambda company: company.isna().sum())\n",
    "\n",
    "# Chuyển `Company` thành cột\n",
    "missing_counts_df = missing_counts_df.reset_index()\n",
    "missing_counts_df"
   ]
  },
  {
   "cell_type": "markdown",
   "metadata": {},
   "source": [
    "### Tạo DataFrame chứa số lượng missing values là lớn nhất trong các cột theo công ty"
   ]
  },
  {
   "cell_type": "code",
   "execution_count": 922,
   "metadata": {},
   "outputs": [
    {
     "data": {
      "text/html": [
       "<div>\n",
       "<style scoped>\n",
       "    .dataframe tbody tr th:only-of-type {\n",
       "        vertical-align: middle;\n",
       "    }\n",
       "\n",
       "    .dataframe tbody tr th {\n",
       "        vertical-align: top;\n",
       "    }\n",
       "\n",
       "    .dataframe thead th {\n",
       "        text-align: right;\n",
       "    }\n",
       "</style>\n",
       "<table border=\"1\" class=\"dataframe\">\n",
       "  <thead>\n",
       "    <tr style=\"text-align: right;\">\n",
       "      <th></th>\n",
       "      <th>Company</th>\n",
       "      <th>Max missing values</th>\n",
       "    </tr>\n",
       "  </thead>\n",
       "  <tbody>\n",
       "    <tr>\n",
       "      <th>0</th>\n",
       "      <td>(HLBank) Hong Leong Bank</td>\n",
       "      <td>11</td>\n",
       "    </tr>\n",
       "    <tr>\n",
       "      <th>1</th>\n",
       "      <td>37 Interactive Entertainment</td>\n",
       "      <td>19</td>\n",
       "    </tr>\n",
       "    <tr>\n",
       "      <th>2</th>\n",
       "      <td>3M</td>\n",
       "      <td>1</td>\n",
       "    </tr>\n",
       "    <tr>\n",
       "      <th>3</th>\n",
       "      <td>3i Group</td>\n",
       "      <td>6</td>\n",
       "    </tr>\n",
       "    <tr>\n",
       "      <th>4</th>\n",
       "      <td>7-Eleven</td>\n",
       "      <td>9</td>\n",
       "    </tr>\n",
       "    <tr>\n",
       "      <th>...</th>\n",
       "      <td>...</td>\n",
       "      <td>...</td>\n",
       "    </tr>\n",
       "    <tr>\n",
       "      <th>1849</th>\n",
       "      <td>monday.com</td>\n",
       "      <td>20</td>\n",
       "    </tr>\n",
       "    <tr>\n",
       "      <th>1850</th>\n",
       "      <td>nVent Electric</td>\n",
       "      <td>18</td>\n",
       "    </tr>\n",
       "    <tr>\n",
       "      <th>1851</th>\n",
       "      <td>Ørsted</td>\n",
       "      <td>16</td>\n",
       "    </tr>\n",
       "    <tr>\n",
       "      <th>1852</th>\n",
       "      <td>ČEZ Group</td>\n",
       "      <td>10</td>\n",
       "    </tr>\n",
       "    <tr>\n",
       "      <th>1853</th>\n",
       "      <td>“K” Line</td>\n",
       "      <td>8</td>\n",
       "    </tr>\n",
       "  </tbody>\n",
       "</table>\n",
       "<p>1854 rows × 2 columns</p>\n",
       "</div>"
      ],
      "text/plain": [
       "                           Company  Max missing values\n",
       "0         (HLBank) Hong Leong Bank                  11\n",
       "1     37 Interactive Entertainment                  19\n",
       "2                               3M                   1\n",
       "3                         3i Group                   6\n",
       "4                         7-Eleven                   9\n",
       "...                            ...                 ...\n",
       "1849                    monday.com                  20\n",
       "1850                nVent Electric                  18\n",
       "1851                        Ørsted                  16\n",
       "1852                     ČEZ Group                  10\n",
       "1853                      “K” Line                   8\n",
       "\n",
       "[1854 rows x 2 columns]"
      ]
     },
     "execution_count": 922,
     "metadata": {},
     "output_type": "execute_result"
    }
   ],
   "source": [
    "max_missing = missing_counts_df.apply(lambda row: max(row[num_missing_cols]), axis = 1)\n",
    "max_missing_df = pd.concat((missing_counts_df[\"Company\"], max_missing), axis = 1)\n",
    "max_missing_df.columns = [\"Company\", \"Max missing values\"]\n",
    "max_missing_df"
   ]
  },
  {
   "cell_type": "markdown",
   "metadata": {},
   "source": [
    "Do mỗi công ty, ta thu thập `23` observation tương ứng với `23` năm nên ta sẽ drop những observation nào có `Max mising values` là `23`. Bởi vì các company này tồn tại các cột không thể tính `median`"
   ]
  },
  {
   "cell_type": "markdown",
   "metadata": {},
   "source": [
    "Lấy danh sách công ty cần drop"
   ]
  },
  {
   "cell_type": "code",
   "execution_count": 923,
   "metadata": {},
   "outputs": [
    {
     "data": {
      "text/plain": [
       "8               ADNOC Drilling Company\n",
       "9                            ADNOC Gas\n",
       "10          ADNOC Logistics & Services\n",
       "37    Abu Dhabi Commercial Bank (ADCB)\n",
       "38       Abu Dhabi Islamic Bank (ADIB)\n",
       "Name: Company, dtype: object"
      ]
     },
     "execution_count": 923,
     "metadata": {},
     "output_type": "execute_result"
    }
   ],
   "source": [
    "drop_list = max_missing_df[max_missing_df[\"Max missing values\"] == 23][\"Company\"]\n",
    "drop_list.head()"
   ]
  },
  {
   "cell_type": "code",
   "execution_count": 924,
   "metadata": {},
   "outputs": [
    {
     "name": "stdout",
     "output_type": "stream",
     "text": [
      "Số lượng công ty cần drop: 52\n"
     ]
    }
   ],
   "source": [
    "print(f\"Số lượng công ty cần drop: {len(drop_list)}\")"
   ]
  },
  {
   "cell_type": "markdown",
   "metadata": {},
   "source": [
    "Tiến hành drop các công ty này trong `raw_df`"
   ]
  },
  {
   "cell_type": "code",
   "execution_count": 925,
   "metadata": {},
   "outputs": [],
   "source": [
    "raw_df = raw_df[~raw_df[\"Company\"].isin(drop_list.values)]"
   ]
  },
  {
   "cell_type": "markdown",
   "metadata": {},
   "source": [
    "Xem lại shape"
   ]
  },
  {
   "cell_type": "code",
   "execution_count": 926,
   "metadata": {},
   "outputs": [
    {
     "data": {
      "text/plain": [
       "(41446, 13)"
      ]
     },
     "execution_count": 926,
     "metadata": {},
     "output_type": "execute_result"
    }
   ],
   "source": [
    "raw_df.shape"
   ]
  },
  {
   "cell_type": "markdown",
   "metadata": {},
   "source": [
    "Bây giờ, ta có thể tiến hành replace `nan` bằng `median` của cột theo từng công ty mà không sợ bị lỗi nữa."
   ]
  },
  {
   "cell_type": "markdown",
   "metadata": {},
   "source": [
    "Tương ứng với từng `Numerical` cột, ta sẽ tạo một dictionary với:\n",
    "\n",
    "- Key: tên của Company\n",
    "\n",
    "- Value: `median` tương ứng với cột dựa theo Company"
   ]
  },
  {
   "cell_type": "code",
   "execution_count": 927,
   "metadata": {},
   "outputs": [],
   "source": [
    "median_dict = []\n",
    "\n",
    "for col in num_missing_cols:\n",
    "    median_dict.append(raw_df.groupby(\"Company\")[col].median().to_dict())\n"
   ]
  },
  {
   "cell_type": "markdown",
   "metadata": {},
   "source": [
    "Lặp qua các cột `Numerical` có missing value và tiến hành thay thế các giá trị `nan` bằng `median` tương ứng"
   ]
  },
  {
   "cell_type": "code",
   "execution_count": 928,
   "metadata": {},
   "outputs": [],
   "source": [
    "for i, col in enumerate(num_missing_cols):\n",
    "    raw_df[col] = raw_df.apply(lambda row: median_dict[i][row[\"Company\"]] if pd.isna(row[col]) else row[col], axis = 1)"
   ]
  },
  {
   "cell_type": "code",
   "execution_count": 929,
   "metadata": {},
   "outputs": [
    {
     "name": "stdout",
     "output_type": "stream",
     "text": [
      "<class 'pandas.core.frame.DataFrame'>\n",
      "Index: 41446 entries, 0 to 69459\n",
      "Data columns (total 13 columns):\n",
      " #   Column             Non-Null Count  Dtype  \n",
      "---  ------             --------------  -----  \n",
      " 0   Company            41446 non-null  object \n",
      " 1   Year               41446 non-null  object \n",
      " 2   EPS ($)            41446 non-null  float64\n",
      " 3   Earnings ($B)      41446 non-null  float64\n",
      " 4   Revenue ($B)       41446 non-null  float64\n",
      " 5   Marketcap ($B)     41446 non-null  float64\n",
      " 6   Total Debts ($B)   41446 non-null  float64\n",
      " 7   Net Assets ($B)    41446 non-null  float64\n",
      " 8   Total Assets ($B)  41446 non-null  float64\n",
      " 9   Cash on hand ($B)  41446 non-null  float64\n",
      " 10  Country            41446 non-null  object \n",
      " 11  Share price ($)    41446 non-null  object \n",
      " 12  Categories         41446 non-null  object \n",
      "dtypes: float64(8), object(5)\n",
      "memory usage: 4.4+ MB\n"
     ]
    }
   ],
   "source": [
    "raw_df.info()"
   ]
  },
  {
   "cell_type": "markdown",
   "metadata": {},
   "source": [
    "## Phân bố của các cột `Categorical`"
   ]
  },
  {
   "cell_type": "markdown",
   "metadata": {},
   "source": [
    "Các cột bao gồm:\n",
    "- `Company`\n",
    "\n",
    "- `Year`\n",
    "\n",
    "- `Country`\n",
    "\n",
    "- `Categories`"
   ]
  },
  {
   "cell_type": "markdown",
   "metadata": {},
   "source": [
    "Xem phân bố của các cột có giá trị đơn lẻ"
   ]
  },
  {
   "cell_type": "code",
   "execution_count": 930,
   "metadata": {},
   "outputs": [
    {
     "data": {
      "text/html": [
       "<div>\n",
       "<style scoped>\n",
       "    .dataframe tbody tr th:only-of-type {\n",
       "        vertical-align: middle;\n",
       "    }\n",
       "\n",
       "    .dataframe tbody tr th {\n",
       "        vertical-align: top;\n",
       "    }\n",
       "\n",
       "    .dataframe thead th {\n",
       "        text-align: right;\n",
       "    }\n",
       "</style>\n",
       "<table border=\"1\" class=\"dataframe\">\n",
       "  <thead>\n",
       "    <tr style=\"text-align: right;\">\n",
       "      <th></th>\n",
       "      <th>Company</th>\n",
       "      <th>Year</th>\n",
       "      <th>Country</th>\n",
       "    </tr>\n",
       "  </thead>\n",
       "  <tbody>\n",
       "    <tr>\n",
       "      <th>count</th>\n",
       "      <td>1802</td>\n",
       "      <td>23</td>\n",
       "      <td>49</td>\n",
       "    </tr>\n",
       "    <tr>\n",
       "      <th>distribution</th>\n",
       "      <td>{'Apple': 23, 'The Mosaic Company': 23, 'BDO U...</td>\n",
       "      <td>{2023: 1802, 2011: 1802, 2002: 1802, 2003: 180...</td>\n",
       "      <td>{'USA': 15042, 'Japan': 3151, 'China': 3082, '...</td>\n",
       "    </tr>\n",
       "  </tbody>\n",
       "</table>\n",
       "</div>"
      ],
      "text/plain": [
       "                                                        Company  \\\n",
       "count                                                      1802   \n",
       "distribution  {'Apple': 23, 'The Mosaic Company': 23, 'BDO U...   \n",
       "\n",
       "                                                           Year  \\\n",
       "count                                                        23   \n",
       "distribution  {2023: 1802, 2011: 1802, 2002: 1802, 2003: 180...   \n",
       "\n",
       "                                                        Country  \n",
       "count                                                        49  \n",
       "distribution  {'USA': 15042, 'Japan': 3151, 'China': 3082, '...  "
      ]
     },
     "execution_count": 930,
     "metadata": {},
     "output_type": "execute_result"
    }
   ],
   "source": [
    "single_cat_cols = [\"Company\", \"Year\", \"Country\"]\n",
    "single_dist = raw_df[single_cat_cols].agg([\n",
    "    lambda x: x.nunique(),\n",
    "    lambda x: x.value_counts().to_dict()\n",
    "])\n",
    "single_dist.index = [\"count\", \"distribution\"]\n",
    "single_dist"
   ]
  },
  {
   "cell_type": "markdown",
   "metadata": {},
   "source": [
    "Xem phân bố của các cột có thể có nhiều giá trị"
   ]
  },
  {
   "cell_type": "code",
   "execution_count": 931,
   "metadata": {},
   "outputs": [
    {
     "data": {
      "text/html": [
       "<div>\n",
       "<style scoped>\n",
       "    .dataframe tbody tr th:only-of-type {\n",
       "        vertical-align: middle;\n",
       "    }\n",
       "\n",
       "    .dataframe tbody tr th {\n",
       "        vertical-align: top;\n",
       "    }\n",
       "\n",
       "    .dataframe thead th {\n",
       "        text-align: right;\n",
       "    }\n",
       "</style>\n",
       "<table border=\"1\" class=\"dataframe\">\n",
       "  <thead>\n",
       "    <tr style=\"text-align: right;\">\n",
       "      <th></th>\n",
       "      <th>Categories</th>\n",
       "    </tr>\n",
       "  </thead>\n",
       "  <tbody>\n",
       "    <tr>\n",
       "      <th>count</th>\n",
       "      <td>132</td>\n",
       "    </tr>\n",
       "    <tr>\n",
       "      <th>distribution</th>\n",
       "      <td>{'Financial services': 6187, 'Tech': 5359, 'En...</td>\n",
       "    </tr>\n",
       "  </tbody>\n",
       "</table>\n",
       "</div>"
      ],
      "text/plain": [
       "                                                     Categories\n",
       "count                                                       132\n",
       "distribution  {'Financial services': 6187, 'Tech': 5359, 'En..."
      ]
     },
     "execution_count": 931,
     "metadata": {},
     "output_type": "execute_result"
    }
   ],
   "source": [
    "multiple_cat_cols = [\"Categories\"]\n",
    "\n",
    "\n",
    "multiple_dist = raw_df[multiple_cat_cols].agg([\n",
    "    lambda x: x.str.split(\", \").explode().nunique(),\n",
    "    lambda x: x.str.split(\", \").explode().value_counts().to_dict()],\n",
    "    )\n",
    "multiple_dist.index = [\"count\", \"distribution\"]\n",
    "multiple_dist"
   ]
  },
  {
   "cell_type": "markdown",
   "metadata": {},
   "source": [
    "## Phân bố của các cột `Numerical`"
   ]
  },
  {
   "cell_type": "markdown",
   "metadata": {},
   "source": [
    "Danh sách các cột `Numerical`"
   ]
  },
  {
   "cell_type": "code",
   "execution_count": 932,
   "metadata": {},
   "outputs": [],
   "source": [
    "numeric_cols = ['EPS ($)', 'Earnings ($B)', 'Revenue ($B)','Marketcap ($B)', 'Total Debts ($B)', 'Net Assets ($B)','Total Assets ($B)', 'Cash on hand ($B)', 'Share price ($)',]"
   ]
  },
  {
   "cell_type": "markdown",
   "metadata": {},
   "source": [
    "Gọi `describe()` để quan sát dữ liệu"
   ]
  },
  {
   "cell_type": "code",
   "execution_count": 933,
   "metadata": {},
   "outputs": [
    {
     "data": {
      "text/html": [
       "<div>\n",
       "<style scoped>\n",
       "    .dataframe tbody tr th:only-of-type {\n",
       "        vertical-align: middle;\n",
       "    }\n",
       "\n",
       "    .dataframe tbody tr th {\n",
       "        vertical-align: top;\n",
       "    }\n",
       "\n",
       "    .dataframe thead th {\n",
       "        text-align: right;\n",
       "    }\n",
       "</style>\n",
       "<table border=\"1\" class=\"dataframe\">\n",
       "  <thead>\n",
       "    <tr style=\"text-align: right;\">\n",
       "      <th></th>\n",
       "      <th>EPS ($)</th>\n",
       "      <th>Earnings ($B)</th>\n",
       "      <th>Revenue ($B)</th>\n",
       "      <th>Marketcap ($B)</th>\n",
       "      <th>Total Debts ($B)</th>\n",
       "      <th>Net Assets ($B)</th>\n",
       "      <th>Total Assets ($B)</th>\n",
       "      <th>Cash on hand ($B)</th>\n",
       "    </tr>\n",
       "  </thead>\n",
       "  <tbody>\n",
       "    <tr>\n",
       "      <th>count</th>\n",
       "      <td>41446.000000</td>\n",
       "      <td>41446.000000</td>\n",
       "      <td>41446.000000</td>\n",
       "      <td>41446.000000</td>\n",
       "      <td>41446.000000</td>\n",
       "      <td>41446.000000</td>\n",
       "      <td>41446.000000</td>\n",
       "      <td>41446.000000</td>\n",
       "    </tr>\n",
       "    <tr>\n",
       "      <th>mean</th>\n",
       "      <td>3.819672</td>\n",
       "      <td>2.119273</td>\n",
       "      <td>16.978580</td>\n",
       "      <td>26.895598</td>\n",
       "      <td>11.305330</td>\n",
       "      <td>11.738960</td>\n",
       "      <td>73.564609</td>\n",
       "      <td>8.454082</td>\n",
       "    </tr>\n",
       "    <tr>\n",
       "      <th>std</th>\n",
       "      <td>84.666253</td>\n",
       "      <td>7.041591</td>\n",
       "      <td>35.636597</td>\n",
       "      <td>76.989778</td>\n",
       "      <td>33.847036</td>\n",
       "      <td>25.841681</td>\n",
       "      <td>260.327791</td>\n",
       "      <td>38.858210</td>\n",
       "    </tr>\n",
       "    <tr>\n",
       "      <th>min</th>\n",
       "      <td>-4486.000000</td>\n",
       "      <td>-59.280000</td>\n",
       "      <td>-108.230000</td>\n",
       "      <td>0.000000</td>\n",
       "      <td>-0.022720</td>\n",
       "      <td>-99.760000</td>\n",
       "      <td>0.000000</td>\n",
       "      <td>0.000000</td>\n",
       "    </tr>\n",
       "    <tr>\n",
       "      <th>25%</th>\n",
       "      <td>0.160000</td>\n",
       "      <td>0.210000</td>\n",
       "      <td>1.900000</td>\n",
       "      <td>5.830000</td>\n",
       "      <td>0.539750</td>\n",
       "      <td>1.280000</td>\n",
       "      <td>3.442500</td>\n",
       "      <td>0.260000</td>\n",
       "    </tr>\n",
       "    <tr>\n",
       "      <th>50%</th>\n",
       "      <td>0.950000</td>\n",
       "      <td>0.760000</td>\n",
       "      <td>5.850000</td>\n",
       "      <td>11.780000</td>\n",
       "      <td>2.485000</td>\n",
       "      <td>4.240000</td>\n",
       "      <td>11.950000</td>\n",
       "      <td>0.990000</td>\n",
       "    </tr>\n",
       "    <tr>\n",
       "      <th>75%</th>\n",
       "      <td>2.690000</td>\n",
       "      <td>2.080000</td>\n",
       "      <td>16.207500</td>\n",
       "      <td>25.360000</td>\n",
       "      <td>8.010000</td>\n",
       "      <td>11.270000</td>\n",
       "      <td>38.080000</td>\n",
       "      <td>3.530000</td>\n",
       "    </tr>\n",
       "    <tr>\n",
       "      <th>max</th>\n",
       "      <td>7742.000000</td>\n",
       "      <td>307.360000</td>\n",
       "      <td>817.510000</td>\n",
       "      <td>3043.000000</td>\n",
       "      <td>824.140000</td>\n",
       "      <td>602.460000</td>\n",
       "      <td>5743.000000</td>\n",
       "      <td>933.590000</td>\n",
       "    </tr>\n",
       "  </tbody>\n",
       "</table>\n",
       "</div>"
      ],
      "text/plain": [
       "            EPS ($)  Earnings ($B)  Revenue ($B)  Marketcap ($B)  \\\n",
       "count  41446.000000   41446.000000  41446.000000    41446.000000   \n",
       "mean       3.819672       2.119273     16.978580       26.895598   \n",
       "std       84.666253       7.041591     35.636597       76.989778   \n",
       "min    -4486.000000     -59.280000   -108.230000        0.000000   \n",
       "25%        0.160000       0.210000      1.900000        5.830000   \n",
       "50%        0.950000       0.760000      5.850000       11.780000   \n",
       "75%        2.690000       2.080000     16.207500       25.360000   \n",
       "max     7742.000000     307.360000    817.510000     3043.000000   \n",
       "\n",
       "       Total Debts ($B)  Net Assets ($B)  Total Assets ($B)  Cash on hand ($B)  \n",
       "count      41446.000000     41446.000000       41446.000000       41446.000000  \n",
       "mean          11.305330        11.738960          73.564609           8.454082  \n",
       "std           33.847036        25.841681         260.327791          38.858210  \n",
       "min           -0.022720       -99.760000           0.000000           0.000000  \n",
       "25%            0.539750         1.280000           3.442500           0.260000  \n",
       "50%            2.485000         4.240000          11.950000           0.990000  \n",
       "75%            8.010000        11.270000          38.080000           3.530000  \n",
       "max          824.140000       602.460000        5743.000000         933.590000  "
      ]
     },
     "execution_count": 933,
     "metadata": {},
     "output_type": "execute_result"
    }
   ],
   "source": [
    "raw_df[numeric_cols].describe()"
   ]
  },
  {
   "cell_type": "markdown",
   "metadata": {},
   "source": [
    "**Nhận xét**\n"
   ]
  },
  {
   "cell_type": "markdown",
   "metadata": {},
   "source": [
    "Dựa vào các giá trị `min` và `max`, ta không nhận thấy giá trị nào bất thường"
   ]
  },
  {
   "cell_type": "markdown",
   "metadata": {},
   "source": [
    "## Lưu preprocessed data"
   ]
  },
  {
   "cell_type": "code",
   "execution_count": 934,
   "metadata": {},
   "outputs": [],
   "source": [
    "raw_df.to_csv(\"../Data/preprocessed/cleaned_dataset.csv\", index=False)"
   ]
  }
 ],
 "metadata": {
  "kernelspec": {
   "display_name": "Python 3 (ipykernel)",
   "language": "python",
   "name": "python3"
  },
  "language_info": {
   "codemirror_mode": {
    "name": "ipython",
    "version": 3
   },
   "file_extension": ".py",
   "mimetype": "text/x-python",
   "name": "python",
   "nbconvert_exporter": "python",
   "pygments_lexer": "ipython3",
   "version": "3.10.8"
  }
 },
 "nbformat": 4,
 "nbformat_minor": 2
}
