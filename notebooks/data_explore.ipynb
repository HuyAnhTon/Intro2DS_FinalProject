{
 "cells": [
  {
   "cell_type": "markdown",
   "metadata": {},
   "source": [
    "# II. Data explore"
   ]
  },
  {
   "cell_type": "markdown",
   "metadata": {},
   "source": [
    "## Import các thư viện cần thiết"
   ]
  },
  {
   "cell_type": "code",
   "execution_count": 54,
   "metadata": {},
   "outputs": [],
   "source": [
    "import pandas as pd\n",
    "import numpy as np \n",
    "import matplotlib.pyplot as plt"
   ]
  },
  {
   "cell_type": "markdown",
   "metadata": {},
   "source": [
    "## Load dataset đã tạo ở phần trước"
   ]
  },
  {
   "cell_type": "code",
   "execution_count": 55,
   "metadata": {},
   "outputs": [],
   "source": [
    "raw_df = pd.read_csv(\"../data/raw/raw_data.csv\")"
   ]
  },
  {
   "cell_type": "markdown",
   "metadata": {},
   "source": [
    "In ra 5 dòng đầu tiên của dataset"
   ]
  },
  {
   "cell_type": "code",
   "execution_count": 56,
   "metadata": {},
   "outputs": [
    {
     "data": {
      "text/html": [
       "<div>\n",
       "<style scoped>\n",
       "    .dataframe tbody tr th:only-of-type {\n",
       "        vertical-align: middle;\n",
       "    }\n",
       "\n",
       "    .dataframe tbody tr th {\n",
       "        vertical-align: top;\n",
       "    }\n",
       "\n",
       "    .dataframe thead th {\n",
       "        text-align: right;\n",
       "    }\n",
       "</style>\n",
       "<table border=\"1\" class=\"dataframe\">\n",
       "  <thead>\n",
       "    <tr style=\"text-align: right;\">\n",
       "      <th></th>\n",
       "      <th>Company</th>\n",
       "      <th>Year</th>\n",
       "      <th>EPS</th>\n",
       "      <th>Earnings</th>\n",
       "      <th>Revenue</th>\n",
       "      <th>Marketcap</th>\n",
       "      <th>Total Debts</th>\n",
       "      <th>Net Assets</th>\n",
       "      <th>Total Assets</th>\n",
       "      <th>Cash on hand</th>\n",
       "      <th>Country</th>\n",
       "      <th>Share price</th>\n",
       "      <th>Categories</th>\n",
       "    </tr>\n",
       "  </thead>\n",
       "  <tbody>\n",
       "    <tr>\n",
       "      <th>0</th>\n",
       "      <td>Apple</td>\n",
       "      <td>2023</td>\n",
       "      <td>$6.16</td>\n",
       "      <td>$114.30 B</td>\n",
       "      <td>$383.28 B</td>\n",
       "      <td>$3.043 T</td>\n",
       "      <td>$111.08 B</td>\n",
       "      <td>$62.14 B</td>\n",
       "      <td>$352.58 B</td>\n",
       "      <td>$61.55 B</td>\n",
       "      <td>USA</td>\n",
       "      <td>$195.71</td>\n",
       "      <td>👨‍💻 Software, 👩‍💻 Tech, 🔌 Electronics, 🇺🇸 Dow ...</td>\n",
       "    </tr>\n",
       "    <tr>\n",
       "      <th>1</th>\n",
       "      <td>Apple</td>\n",
       "      <td>2022</td>\n",
       "      <td>$5.92</td>\n",
       "      <td>$113.96 B</td>\n",
       "      <td>$387.53 B</td>\n",
       "      <td>$2.066 T</td>\n",
       "      <td>$120.06 B</td>\n",
       "      <td>$50.67 B</td>\n",
       "      <td>$352.75 B</td>\n",
       "      <td>$48.30 B</td>\n",
       "      <td>USA</td>\n",
       "      <td>$195.71</td>\n",
       "      <td>👨‍💻 Software, 👩‍💻 Tech, 🔌 Electronics, 🇺🇸 Dow ...</td>\n",
       "    </tr>\n",
       "    <tr>\n",
       "      <th>2</th>\n",
       "      <td>Apple</td>\n",
       "      <td>2021</td>\n",
       "      <td>$6.08</td>\n",
       "      <td>$116.90 B</td>\n",
       "      <td>$378.32 B</td>\n",
       "      <td>$2.901 T</td>\n",
       "      <td>$124.71 B</td>\n",
       "      <td>$63.09 B</td>\n",
       "      <td>$351.00 B</td>\n",
       "      <td>$62.63 B</td>\n",
       "      <td>USA</td>\n",
       "      <td>$195.71</td>\n",
       "      <td>👨‍💻 Software, 👩‍💻 Tech, 🔌 Electronics, 🇺🇸 Dow ...</td>\n",
       "    </tr>\n",
       "    <tr>\n",
       "      <th>3</th>\n",
       "      <td>Apple</td>\n",
       "      <td>2020</td>\n",
       "      <td>$3.74</td>\n",
       "      <td>$74.25 B</td>\n",
       "      <td>$294.13 B</td>\n",
       "      <td>$2.255 T</td>\n",
       "      <td>$112.43 B</td>\n",
       "      <td>$65.33 B</td>\n",
       "      <td>$323.88 B</td>\n",
       "      <td>$90.94 B</td>\n",
       "      <td>USA</td>\n",
       "      <td>$195.71</td>\n",
       "      <td>👨‍💻 Software, 👩‍💻 Tech, 🔌 Electronics, 🇺🇸 Dow ...</td>\n",
       "    </tr>\n",
       "    <tr>\n",
       "      <th>4</th>\n",
       "      <td>Apple</td>\n",
       "      <td>2019</td>\n",
       "      <td>$3.19</td>\n",
       "      <td>$66.15 B</td>\n",
       "      <td>$267.68 B</td>\n",
       "      <td>$1.287 T</td>\n",
       "      <td>$108.04 B</td>\n",
       "      <td>$90.48 B</td>\n",
       "      <td>$338.51 B</td>\n",
       "      <td>$100.55 B</td>\n",
       "      <td>USA</td>\n",
       "      <td>$195.71</td>\n",
       "      <td>👨‍💻 Software, 👩‍💻 Tech, 🔌 Electronics, 🇺🇸 Dow ...</td>\n",
       "    </tr>\n",
       "  </tbody>\n",
       "</table>\n",
       "</div>"
      ],
      "text/plain": [
       "  Company  Year    EPS   Earnings    Revenue Marketcap Total Debts Net Assets  \\\n",
       "0   Apple  2023  $6.16  $114.30 B  $383.28 B  $3.043 T   $111.08 B   $62.14 B   \n",
       "1   Apple  2022  $5.92  $113.96 B  $387.53 B  $2.066 T   $120.06 B   $50.67 B   \n",
       "2   Apple  2021  $6.08  $116.90 B  $378.32 B  $2.901 T   $124.71 B   $63.09 B   \n",
       "3   Apple  2020  $3.74   $74.25 B  $294.13 B  $2.255 T   $112.43 B   $65.33 B   \n",
       "4   Apple  2019  $3.19   $66.15 B  $267.68 B  $1.287 T   $108.04 B   $90.48 B   \n",
       "\n",
       "  Total Assets Cash on hand Country Share price  \\\n",
       "0    $352.58 B     $61.55 B     USA     $195.71   \n",
       "1    $352.75 B     $48.30 B     USA     $195.71   \n",
       "2    $351.00 B     $62.63 B     USA     $195.71   \n",
       "3    $323.88 B     $90.94 B     USA     $195.71   \n",
       "4    $338.51 B    $100.55 B     USA     $195.71   \n",
       "\n",
       "                                          Categories  \n",
       "0  👨‍💻 Software, 👩‍💻 Tech, 🔌 Electronics, 🇺🇸 Dow ...  \n",
       "1  👨‍💻 Software, 👩‍💻 Tech, 🔌 Electronics, 🇺🇸 Dow ...  \n",
       "2  👨‍💻 Software, 👩‍💻 Tech, 🔌 Electronics, 🇺🇸 Dow ...  \n",
       "3  👨‍💻 Software, 👩‍💻 Tech, 🔌 Electronics, 🇺🇸 Dow ...  \n",
       "4  👨‍💻 Software, 👩‍💻 Tech, 🔌 Electronics, 🇺🇸 Dow ...  "
      ]
     },
     "execution_count": 56,
     "metadata": {},
     "output_type": "execute_result"
    }
   ],
   "source": [
    "raw_df.head()"
   ]
  },
  {
   "cell_type": "markdown",
   "metadata": {},
   "source": [
    "## Số dòng và số cột"
   ]
  },
  {
   "cell_type": "code",
   "execution_count": 57,
   "metadata": {},
   "outputs": [
    {
     "name": "stdout",
     "output_type": "stream",
     "text": [
      "Dataset có 69460 dòng và 13 cột\n"
     ]
    }
   ],
   "source": [
    "n_rows, n_cols = raw_df.shape\n",
    "print(f\"Dataset có {n_rows} dòng và {n_cols} cột\")"
   ]
  },
  {
   "cell_type": "markdown",
   "metadata": {},
   "source": [
    "## Ý nghĩa của các dòng\n",
    "\n",
    "1 dòng trong dataset là một observation ghi nhận các thông tin của các công ty theo từng năm. Các thông tin của mỗi dòng cung cấp cho ta cái nhìn tổng quan về quy mô, tình trạng hoạt động... của các công ty"
   ]
  },
  {
   "cell_type": "markdown",
   "metadata": {},
   "source": [
    "## Ý nghĩa của các cột"
   ]
  },
  {
   "cell_type": "markdown",
   "metadata": {},
   "source": [
    "- `Company`: tên công ty\n",
    "\n",
    "- `Year`: năm ghi nhận\n",
    "\n",
    "- `EPS`: lợi nhuận / cổ phần\n",
    "\n",
    "- `Earnings`: lợi nhuận\n",
    "\n",
    "- `Revenue`: doanh thu\n",
    "\n",
    "- `Marketcap`: vốn hoá thị trường\n",
    "\n",
    "- `Total Debts`: tổng nợ\n",
    "\n",
    "- `Net Assets`: tài sản ròng\n",
    "\n",
    "- `Total Assets`: tổng tài sản\n",
    "\n",
    "- `Cash on hand`: tiền mặt có sẵn\n",
    "\n",
    "- `Country`: quốc giá\n",
    "\n",
    "- `Share price`: giá cổ phiếu\n",
    "\n",
    "- `Categories`: danh mục công ty"
   ]
  },
  {
   "cell_type": "markdown",
   "metadata": {},
   "source": [
    "## Kiểm tra sự trùng lắp giữa các dòng"
   ]
  },
  {
   "cell_type": "code",
   "execution_count": 58,
   "metadata": {},
   "outputs": [
    {
     "name": "stdout",
     "output_type": "stream",
     "text": [
      "Có 23506 dòng trùng nhau\n"
     ]
    }
   ],
   "source": [
    "n_dups = raw_df.duplicated().sum()\n",
    "\n",
    "if n_dups:\n",
    "    print(f\"Có {n_dups} dòng trùng nhau\")\n",
    "else:\n",
    "    print(\"Không có dòng bị trùng\")"
   ]
  }
 ],
 "metadata": {
  "kernelspec": {
   "display_name": "min_ds-env",
   "language": "python",
   "name": "python3"
  },
  "language_info": {
   "codemirror_mode": {
    "name": "ipython",
    "version": 3
   },
   "file_extension": ".py",
   "mimetype": "text/x-python",
   "name": "python",
   "nbconvert_exporter": "python",
   "pygments_lexer": "ipython3",
   "version": "3.10.8"
  }
 },
 "nbformat": 4,
 "nbformat_minor": 2
}
